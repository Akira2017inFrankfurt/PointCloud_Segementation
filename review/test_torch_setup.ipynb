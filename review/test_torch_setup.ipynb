{
 "cells": [
  {
   "cell_type": "code",
   "execution_count": 1,
   "metadata": {},
   "outputs": [
    {
     "name": "stdout",
     "output_type": "stream",
     "text": [
      "1.5.0\n",
      "True\n"
     ]
    }
   ],
   "source": [
    "import torch\n",
    "\n",
    "print(torch.__version__)\n",
    "print(torch.cuda.is_available())"
   ]
  },
  {
   "cell_type": "code",
   "execution_count": 4,
   "metadata": {},
   "outputs": [
    {
     "name": "stdout",
     "output_type": "stream",
     "text": [
      "tensor([2.3246], device='cuda:0')\n",
      "tensor([2.3246], dtype=torch.float64)\n"
     ]
    }
   ],
   "source": [
    "x = torch.randn(1)\n",
    "\n",
    "if torch.cuda.is_available():\n",
    "    device = torch.device(\"cuda\")\n",
    "    y = torch.ones_like(x, device=device)\n",
    "    x = x.to(device)\n",
    "    z = x + y\n",
    "    \n",
    "    print(z)\n",
    "    print(z.to(\"cpu\", torch.double))"
   ]
  },
  {
   "cell_type": "code",
   "execution_count": 5,
   "metadata": {},
   "outputs": [
    {
     "name": "stdout",
     "output_type": "stream",
     "text": [
      "tensor([[0.7199, 0.2692, 0.0226],\n",
      "        [0.2191, 0.4700, 0.6953],\n",
      "        [0.7051, 0.1146, 0.7328],\n",
      "        [0.8003, 0.3762, 0.4656],\n",
      "        [0.6325, 0.1266, 0.8025]])\n"
     ]
    }
   ],
   "source": [
    "demo = torch.rand(5, 3)\n",
    "print(demo)"
   ]
  },
  {
   "cell_type": "code",
   "execution_count": 7,
   "metadata": {},
   "outputs": [
    {
     "name": "stdout",
     "output_type": "stream",
     "text": [
      "tensor([[-2.2329e+10,  4.5705e-41, -2.2329e+10,  4.5705e-41,  0.0000e+00,\n",
      "          0.0000e+00,  0.0000e+00],\n",
      "        [ 0.0000e+00,  0.0000e+00,  6.2121e+22,  1.8788e+31,  1.7220e+22,\n",
      "          2.4174e-06,  6.7948e-07]])\n"
     ]
    }
   ],
   "source": [
    "zeros = torch.empty(2, 7)\n",
    "print(zeros)"
   ]
  },
  {
   "cell_type": "code",
   "execution_count": 8,
   "metadata": {},
   "outputs": [
    {
     "name": "stdout",
     "output_type": "stream",
     "text": [
      "tensor([[0, 0, 0],\n",
      "        [0, 0, 0],\n",
      "        [0, 0, 0],\n",
      "        [0, 0, 0],\n",
      "        [0, 0, 0]])\n"
     ]
    }
   ],
   "source": [
    "all_zero = torch.zeros(5, 3, dtype=torch.long)\n",
    "print(all_zero)"
   ]
  },
  {
   "cell_type": "code",
   "execution_count": 9,
   "metadata": {},
   "outputs": [
    {
     "name": "stdout",
     "output_type": "stream",
     "text": [
      "tensor([5.5000, 3.0000])\n"
     ]
    }
   ],
   "source": [
    "use_data = torch.tensor([5.5, 3])\n",
    "print(use_data)"
   ]
  },
  {
   "cell_type": "code",
   "execution_count": 10,
   "metadata": {},
   "outputs": [
    {
     "name": "stdout",
     "output_type": "stream",
     "text": [
      "tensor([[1., 1., 1.],\n",
      "        [1., 1., 1.],\n",
      "        [1., 1., 1.],\n",
      "        [1., 1., 1.],\n",
      "        [1., 1., 1.]], device='cuda:0', dtype=torch.float64)\n",
      "tensor([[ 2.3578, -0.2921,  0.5968],\n",
      "        [-0.8454,  1.3985, -0.5716],\n",
      "        [-0.6127,  1.1427, -0.7086],\n",
      "        [-1.5659, -0.2210, -1.7857],\n",
      "        [ 0.5038, -1.0331, -1.4047]], device='cuda:0')\n"
     ]
    }
   ],
   "source": [
    "# 创建一个tensor 基于已经存在的tensor\n",
    "# 其实就是size相似\n",
    "\n",
    "x = x.new_ones(5, 3, dtype=torch.double)\n",
    "print(x)\n",
    "\n",
    "x_star = torch.randn_like(x, dtype=torch.float)\n",
    "print(x_star)"
   ]
  },
  {
   "cell_type": "code",
   "execution_count": 11,
   "metadata": {},
   "outputs": [
    {
     "name": "stdout",
     "output_type": "stream",
     "text": [
      "torch.Size([5, 3])\n"
     ]
    }
   ],
   "source": [
    "print(x_star.size())  // 这是一个元组"
   ]
  },
  {
   "cell_type": "code",
   "execution_count": 20,
   "metadata": {},
   "outputs": [
    {
     "name": "stdout",
     "output_type": "stream",
     "text": [
      "tensor([[0.1849, 0.0896, 0.1230],\n",
      "        [0.1692, 0.9982, 0.2533],\n",
      "        [0.9749, 0.0306, 0.6885],\n",
      "        [0.7280, 0.2622, 0.6809],\n",
      "        [0.7757, 0.8075, 0.6533]], device='cuda:0')\n",
      "x + y =  \n",
      "tensor([[1.1849, 1.0896, 1.1230],\n",
      "        [1.1692, 1.9982, 1.2533],\n",
      "        [1.9749, 1.0306, 1.6885],\n",
      "        [1.7280, 1.2622, 1.6809],\n",
      "        [1.7757, 1.8075, 1.6533]], device='cuda:0')\n"
     ]
    }
   ],
   "source": [
    "# 加法操作\n",
    "y = torch.rand(5, 3)\n",
    "\n",
    "# 注意 下面这两行虽然我现在不理解\n",
    "# 但是很重要 因为没有的话 是没办法找到gpu的 还是默认在cpu上运算\n",
    "# 错误信息： RuntimeError: expected device cpu but got device cuda:0\n",
    "device = torch.device(\"cuda\")\n",
    "y = y.to(device)\n",
    "\n",
    "\n",
    "print(y)\n",
    "print(\"x + y =  \")\n",
    "\n",
    "# 方法1： 直接使用数学运算符\n",
    "# print(x + y)\n",
    "# 方法2：使用自带的add方法\n",
    "# print(torch.add(x, y))\n",
    "\n",
    "# 还有更麻烦 但是看起来更正式的方法\n",
    "# 就是首先定义一个输出结果tensor 然后将加法结果保存在里面\n",
    "result = torch.empty(5, 3)\n",
    "result = result.to(device)\n",
    "torch.add(x, y, out=result)\n",
    "print(result)"
   ]
  },
  {
   "cell_type": "code",
   "execution_count": 5,
   "metadata": {},
   "outputs": [
    {
     "name": "stdout",
     "output_type": "stream",
     "text": [
      "torch.Size([4, 4]) torch.Size([16]) torch.Size([2, 8])\n",
      "tensor([[ 1.3995,  1.1496, -2.1956,  0.3068],\n",
      "        [-0.3140,  1.9795,  0.5274, -0.5078],\n",
      "        [-1.3488,  0.3151, -2.3698,  0.2878],\n",
      "        [-0.5989,  1.4311, -1.1835,  0.2308]])\n",
      "this is z, which is inferred from other dimensions\n",
      "tensor([[ 1.3995,  1.1496, -2.1956,  0.3068, -0.3140,  1.9795,  0.5274, -0.5078],\n",
      "        [-1.3488,  0.3151, -2.3698,  0.2878, -0.5989,  1.4311, -1.1835,  0.2308]])\n",
      "tensor([[ 1.3995,  1.1496, -2.1956,  0.3068],\n",
      "        [-0.3140,  1.9795,  0.5274, -0.5078],\n",
      "        [-1.3488,  0.3151, -2.3698,  0.2878],\n",
      "        [-0.5989,  1.4311, -1.1835,  0.2308]])\n"
     ]
    }
   ],
   "source": [
    "# 如果想要改变tensor的形状或者大小，使用torch.view\n",
    "\n",
    "x = torch.randn(4, 4)\n",
    "y = x.view(16)\n",
    "z = x.view(-1, 8) # the size -1 is inferred from other dimensions\n",
    "# 明白了 看来还是很好用的 就直接根据需要转换了\n",
    "k = z.view(-1, 4)\n",
    "\n",
    "print(x.size(), y.size(), z.size())\n",
    "print(x)\n",
    "print(\"this is z, which is inferred from other dimensions\")\n",
    "print(z)\n",
    "print(k)"
   ]
  },
  {
   "cell_type": "code",
   "execution_count": 6,
   "metadata": {},
   "outputs": [
    {
     "name": "stdout",
     "output_type": "stream",
     "text": [
      "tensor([-0.3989])\n",
      "-0.39892321825027466\n"
     ]
    }
   ],
   "source": [
    "x = torch.randn(1)\n",
    "print(x)\n",
    "\n",
    "print(x.item())"
   ]
  },
  {
   "cell_type": "code",
   "execution_count": null,
   "metadata": {},
   "outputs": [],
   "source": []
  }
 ],
 "metadata": {
  "kernelspec": {
   "display_name": "Python 3",
   "language": "python",
   "name": "python3"
  },
  "language_info": {
   "codemirror_mode": {
    "name": "ipython",
    "version": 3
   },
   "file_extension": ".py",
   "mimetype": "text/x-python",
   "name": "python",
   "nbconvert_exporter": "python",
   "pygments_lexer": "ipython3",
   "version": "3.7.9"
  }
 },
 "nbformat": 4,
 "nbformat_minor": 4
}
