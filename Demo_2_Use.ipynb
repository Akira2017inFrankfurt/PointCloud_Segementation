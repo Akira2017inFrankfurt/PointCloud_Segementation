{
 "cells": [
  {
   "cell_type": "code",
   "execution_count": 1,
   "metadata": {},
   "outputs": [
    {
     "name": "stdout",
     "output_type": "stream",
     "text": [
      "Jupyter environment detected. Enabling Open3D WebVisualizer.\n",
      "[Open3D INFO] WebRTC GUI backend enabled.\n",
      "[Open3D INFO] WebRTCWindowSystem: HTTP handshake server disabled.\n"
     ]
    }
   ],
   "source": [
    "import os\n",
    "import time\n",
    "import random\n",
    "import numpy as np\n",
    "import open3d as o3d\n",
    "\n"
   ]
  },
  {
   "cell_type": "markdown",
   "metadata": {},
   "source": [
    "#### 参数设置"
   ]
  },
  {
   "cell_type": "code",
   "execution_count": 2,
   "metadata": {},
   "outputs": [],
   "source": [
    "# 文件存储地址主目录\n",
    "base_file_path = '/home/akira/桌面/PointCloudCropDemo'\n",
    "# ShapeNet 选中的椅子\n",
    "file_path = '/home/akira/下载/Pointnet2_PyTorch-master/PCT/Point-Transformers-master/data/shapenetcore_partanno_segmentation_benchmark_v0_normal/02691156/1c27d282735f81211063b9885ddcbb1.txt' \n",
    "\n",
    "# ModelNet 飞机相关的目录\n",
    "airplane_file = 'ShapeNet_Chair'\n",
    "airplane_path = os.path.join(base_file_path, airplane_file)"
   ]
  },
  {
   "cell_type": "code",
   "execution_count": 3,
   "metadata": {},
   "outputs": [
    {
     "data": {
      "text/plain": [
       "'/home/akira/桌面/PointCloudCropDemo/ShapeNet_Chair'"
      ]
     },
     "execution_count": 3,
     "metadata": {},
     "output_type": "execute_result"
    }
   ],
   "source": [
    "airplane_path"
   ]
  },
  {
   "cell_type": "markdown",
   "metadata": {},
   "source": [
    "#### 采样结果可视化函数"
   ]
  },
  {
   "cell_type": "code",
   "execution_count": 4,
   "metadata": {},
   "outputs": [],
   "source": [
    "def visualize_samples(d_sample):\n",
    "    print(\"Points in downsample set: \", len(d_sample))\n",
    "    source = o3d.geometry.PointCloud()\n",
    "    source.points = o3d.utility.Vector3dVector(d_sample)\n",
    "    color = [102.0 / 255.0 ,111.0 / 255.0, 142.0 / 255.0]\n",
    "    source.paint_uniform_color(color)\n",
    "    o3d.visualization.draw_geometries([source])"
   ]
  },
  {
   "cell_type": "markdown",
   "metadata": {},
   "source": [
    "#### 保存点云txt文件"
   ]
  },
  {
   "cell_type": "code",
   "execution_count": 5,
   "metadata": {},
   "outputs": [],
   "source": [
    "def save_txt(d_sample, file_name_now):\n",
    "    # 当前是飞机的\n",
    "    file_path = airplane_path\n",
    "    now_txt = file_name_now + '.txt'\n",
    "    txt_file_name = os.path.join(file_path, now_txt)\n",
    "    np.savetxt(txt_file_name, d_sample, fmt='%.6e', delimiter=',')\n",
    "    print(\"Text Saved!\")"
   ]
  },
  {
   "cell_type": "markdown",
   "metadata": {},
   "source": [
    "#### 保存截图PNG文件"
   ]
  },
  {
   "cell_type": "code",
   "execution_count": 6,
   "metadata": {},
   "outputs": [],
   "source": [
    "def save_png(d_sample, file_name_now):\n",
    "    # 调整好角度，按下按键S就会拍照并保存\n",
    "    # get file name\n",
    "    file_path = airplane_path\n",
    "    now_png = file_name_now + '.png'\n",
    "    png_file_name = os.path.join(file_path, now_png)\n",
    "    \n",
    "    source = o3d.geometry.PointCloud()\n",
    "    source.points = o3d.utility.Vector3dVector(d_sample)\n",
    "    color = [102.0 / 255.0, 111.0 / 255.0, 142.0 / 255.0]\n",
    "    source.paint_uniform_color(color)\n",
    "    \n",
    "    def save_capture_screen_image(vis):\n",
    "        vis.capture_screen_image(png_file_name)\n",
    "        return False\n",
    "    key_to_callback = {}\n",
    "    key_to_callback[ord(\"S\")] = save_capture_screen_image\n",
    "    o3d.visualization.draw_geometries_with_key_callbacks([source], key_to_callback)\n",
    "    print(\"PNG Saved!\")"
   ]
  },
  {
   "cell_type": "code",
   "execution_count": 7,
   "metadata": {},
   "outputs": [],
   "source": [
    "def save_txt_and_png(d_sample):\n",
    "    now = time.strftime(\"%Y_%m_%d_%H_%M_%S\", time.localtime())\n",
    "    save_png(d_sample, now)\n",
    "    save_txt(d_sample, now)"
   ]
  },
  {
   "cell_type": "markdown",
   "metadata": {},
   "source": [
    "#### FPS-计算重心"
   ]
  },
  {
   "cell_type": "code",
   "execution_count": 8,
   "metadata": {},
   "outputs": [],
   "source": [
    "def fps_center(original, npoints):\n",
    "    center_xyz = np.sum(original, 0)\n",
    "    # 得到重心点的坐标\n",
    "    center_xyz = center_xyz / len(original)\n",
    "    # 计算出初始的最远点\n",
    "    dist = np.sum((original - center_xyz) ** 2, 1)\n",
    "    farthest = np.argmax(dist)\n",
    "    distance = np.ones(len(original)) * 1e10\n",
    "    target_index = np.zeros(npoints, dtype=np.int32)\n",
    "\n",
    "    for i in range(npoints):\n",
    "        target_index[i] = farthest\n",
    "        target_point_xyz = original[target_index[i], :]\n",
    "        \n",
    "        dist = np.sum((original - target_point_xyz) ** 2, 1)\n",
    "        mask = dist < distance\n",
    "        distance[mask] = dist[mask]\n",
    "        farthest = np.argmax(distance)\n",
    "    \n",
    "    return original[target_index]"
   ]
  },
  {
   "cell_type": "markdown",
   "metadata": {},
   "source": [
    "#### FPS-不计算重心"
   ]
  },
  {
   "cell_type": "code",
   "execution_count": 9,
   "metadata": {},
   "outputs": [],
   "source": [
    "def fps_random(original, npoints):\n",
    "    farthest = np.random.randint(len(original))\n",
    "    distance = np.ones(len(original)) * 1e10\n",
    "    target_index = np.zeros(npoints, dtype=np.int32)\n",
    "\n",
    "    for i in range(npoints):\n",
    "        target_index[i] = farthest\n",
    "        target_point_xyz = original[target_index[i], :]\n",
    "        \n",
    "        dist = dist = np.sum((original - target_point_xyz) ** 2, 1)\n",
    "        mask = dist < distance\n",
    "        distance[mask] = dist[mask]\n",
    "        farthest = np.argmax(distance)\n",
    "    \n",
    "    return original[target_index]"
   ]
  },
  {
   "cell_type": "markdown",
   "metadata": {},
   "source": [
    "- 原始点云"
   ]
  },
  {
   "cell_type": "code",
   "execution_count": 13,
   "metadata": {},
   "outputs": [
    {
     "name": "stdout",
     "output_type": "stream",
     "text": [
      "Points in downsample set:  2705\n"
     ]
    }
   ],
   "source": [
    "# 提取并可视化\n",
    "point_set = np.loadtxt(file_path, delimiter=' ').astype(np.float32)[:, 0:3]\n",
    "visualize_samples(point_set)"
   ]
  },
  {
   "cell_type": "code",
   "execution_count": 50,
   "metadata": {},
   "outputs": [
    {
     "name": "stdout",
     "output_type": "stream",
     "text": [
      "PNG Saved!\n",
      "Text Saved!\n"
     ]
    }
   ],
   "source": [
    "# 保存点云和截图\n",
    "save_txt_and_png(point_set)"
   ]
  },
  {
   "cell_type": "code",
   "execution_count": 14,
   "metadata": {},
   "outputs": [
    {
     "name": "stdout",
     "output_type": "stream",
     "text": [
      "Points in downsample set:  1024\n"
     ]
    }
   ],
   "source": [
    "# 初始点取重心，进行一次down sample\n",
    "downsampling_1st = fps_center(point_set, 1024)\n",
    "# 可视化\n",
    "visualize_samples(downsampling_1st)"
   ]
  },
  {
   "cell_type": "code",
   "execution_count": 52,
   "metadata": {},
   "outputs": [
    {
     "name": "stdout",
     "output_type": "stream",
     "text": [
      "PNG Saved!\n",
      "Text Saved!\n"
     ]
    }
   ],
   "source": [
    "# 保存\n",
    "save_txt_and_png(downsampling_1st)"
   ]
  },
  {
   "cell_type": "code",
   "execution_count": 57,
   "metadata": {
    "scrolled": true
   },
   "outputs": [
    {
     "name": "stdout",
     "output_type": "stream",
     "text": [
      "PNG Saved!\n",
      "Text Saved!\n"
     ]
    }
   ],
   "source": [
    "# 初始点随机，给出5个例子\n",
    "downsampling_2nd = fps_random(point_set, 1024)\n",
    "save_txt_and_png(downsampling_2nd)"
   ]
  },
  {
   "cell_type": "markdown",
   "metadata": {},
   "source": [
    "#### 切大Patch"
   ]
  },
  {
   "cell_type": "code",
   "execution_count": 15,
   "metadata": {},
   "outputs": [],
   "source": [
    "# 大patch（3 slices， 40% per slice）\n",
    "def get_index(index_slice, ration_per_slice, overlap_ration, num_all_points):\n",
    "    # index_slice = 0, 1, 2\n",
    "    start_index = index_slice * (ration_per_slice - overlap_ration) * num_all_points\n",
    "    end_index = start_index + ration_per_slice * num_all_points\n",
    "    return int(start_index), int(end_index)\n",
    "\n",
    "def get_big_patch(point_set, npoints, xyz_dim, index_slice):\n",
    "    # xyz_dim: 0, 1, 2 for x, y, z\n",
    "    start_index, end_index = get_index(index_slice, 0.4, 0.1, len(point_set))\n",
    "    big_patch_index = np.argsort(point_set, axis=0)[start_index: end_index, xyz_dim]\n",
    "    big_patch = point_set[big_patch_index]\n",
    "    random.shuffle(big_patch)\n",
    "    # 返回fps后的值，fps前的值，xyz，index_slice\n",
    "    return (fps_center(big_patch, npoints), big_patch, xyz_dim, index_slice)"
   ]
  },
  {
   "cell_type": "code",
   "execution_count": 16,
   "metadata": {},
   "outputs": [
    {
     "name": "stdout",
     "output_type": "stream",
     "text": [
      "Points in downsample set:  1082\n"
     ]
    }
   ],
   "source": [
    "# 测试\n",
    "point_set = np.loadtxt(file_path, delimiter=' ').astype(np.float32)[:, 0:3]\n",
    "before_fps, downsampling_big_patch, xyz_dim, index_slice = get_big_patch(point_set, 1024, 2, 2)\n",
    "visualize_samples(downsampling_big_patch)"
   ]
  },
  {
   "cell_type": "markdown",
   "metadata": {},
   "source": [
    "#### 新的保存函数，可以保存fps前后的点云"
   ]
  },
  {
   "cell_type": "code",
   "execution_count": 60,
   "metadata": {},
   "outputs": [],
   "source": [
    "def save_new(bf, d_sample, xyz, sli):\n",
    "    # xyz 表示取哪个轴\n",
    "    # sli 表示第几个slice\n",
    "    if xyz == 0:\n",
    "        dim = 'x'\n",
    "    elif xyz == 1:\n",
    "        dim = 'y'\n",
    "    else:\n",
    "        dim = 'z'\n",
    "    now = dim + '_' + str(sli)\n",
    "    save_txt(d_sample, now)\n",
    "    save_png(d_sample, now)\n",
    "    now_bf = 'Before_fps_' + now\n",
    "    save_txt(bf, now_bf)\n",
    "    save_png(bf, now_bf)"
   ]
  },
  {
   "cell_type": "code",
   "execution_count": 69,
   "metadata": {},
   "outputs": [
    {
     "name": "stdout",
     "output_type": "stream",
     "text": [
      "Text Saved!\n",
      "PNG Saved!\n",
      "Text Saved!\n",
      "PNG Saved!\n"
     ]
    }
   ],
   "source": [
    "# 分别0，1，2 两个值都是，循环这样做就好了\n",
    "dbp, bf, xyz, sli = get_big_patch(point_set, 1024, 2, 2)\n",
    "save_new(bf, dbp, xyz, sli)"
   ]
  },
  {
   "cell_type": "code",
   "execution_count": 80,
   "metadata": {},
   "outputs": [
    {
     "name": "stdout",
     "output_type": "stream",
     "text": [
      "PNG Saved!\n",
      "Text Saved!\n"
     ]
    }
   ],
   "source": [
    "bf, dbp, xyz, sli = get_big_patch(point_set, 1024, 2, 2)\n",
    "save_txt_and_png(dbp)"
   ]
  },
  {
   "cell_type": "markdown",
   "metadata": {},
   "source": [
    "#### 切小Patch"
   ]
  },
  {
   "cell_type": "code",
   "execution_count": 17,
   "metadata": {},
   "outputs": [],
   "source": [
    "def get_small_patch(point_set, npoints, xyz_dim, index_slice):\n",
    "    start_index, end_index = get_index(index_slice, 0.2, 0.1, len(point_set))\n",
    "    small_patch_index = np.argsort(point_set, axis=0)[start_index: end_index, xyz_dim]\n",
    "    small_patch = point_set[small_patch_index]\n",
    "    random.shuffle(small_patch)\n",
    "    return (fps_center(small_patch, npoints), small_patch, xyz_dim, index_slice)"
   ]
  },
  {
   "cell_type": "code",
   "execution_count": 24,
   "metadata": {
    "collapsed": true
   },
   "outputs": [
    {
     "ename": "ValueError",
     "evalue": "could not convert string to float: '0.103360 -0.097800 -0.098760 -0.119900 -0.375500 0.919000 3.000000'",
     "output_type": "error",
     "traceback": [
      "\u001b[0;31m---------------------------------------------------------------------------\u001b[0m",
      "\u001b[0;31mValueError\u001b[0m                                Traceback (most recent call last)",
      "\u001b[0;32m<ipython-input-24-2f9ea7ddc120>\u001b[0m in \u001b[0;36m<module>\u001b[0;34m\u001b[0m\n\u001b[0;32m----> 1\u001b[0;31m \u001b[0mpoint_set\u001b[0m \u001b[0;34m=\u001b[0m \u001b[0mnp\u001b[0m\u001b[0;34m.\u001b[0m\u001b[0mloadtxt\u001b[0m\u001b[0;34m(\u001b[0m\u001b[0mfile_path\u001b[0m\u001b[0;34m,\u001b[0m \u001b[0mdelimiter\u001b[0m\u001b[0;34m=\u001b[0m\u001b[0;34m','\u001b[0m\u001b[0;34m)\u001b[0m\u001b[0;34m.\u001b[0m\u001b[0mastype\u001b[0m\u001b[0;34m(\u001b[0m\u001b[0mnp\u001b[0m\u001b[0;34m.\u001b[0m\u001b[0mfloat32\u001b[0m\u001b[0;34m)\u001b[0m\u001b[0;34m[\u001b[0m\u001b[0;34m:\u001b[0m\u001b[0;34m,\u001b[0m \u001b[0;36m0\u001b[0m\u001b[0;34m:\u001b[0m\u001b[0;36m3\u001b[0m\u001b[0;34m]\u001b[0m\u001b[0;34m\u001b[0m\u001b[0;34m\u001b[0m\u001b[0m\n\u001b[0m\u001b[1;32m      2\u001b[0m \u001b[0mdownsampling_small_patch\u001b[0m \u001b[0;34m=\u001b[0m \u001b[0mget_small_patch\u001b[0m\u001b[0;34m(\u001b[0m\u001b[0mpoint_set\u001b[0m\u001b[0;34m,\u001b[0m \u001b[0;36m1024\u001b[0m\u001b[0;34m,\u001b[0m \u001b[0;36m2\u001b[0m\u001b[0;34m,\u001b[0m \u001b[0;36m8\u001b[0m\u001b[0;34m)\u001b[0m\u001b[0;34m\u001b[0m\u001b[0;34m\u001b[0m\u001b[0m\n\u001b[1;32m      3\u001b[0m \u001b[0mvisualize_samples\u001b[0m\u001b[0;34m(\u001b[0m\u001b[0mdownsampling_small_patch\u001b[0m\u001b[0;34m)\u001b[0m\u001b[0;34m\u001b[0m\u001b[0;34m\u001b[0m\u001b[0m\n",
      "\u001b[0;32m~/anaconda3/envs/pytorch/lib/python3.7/site-packages/numpy/lib/npyio.py\u001b[0m in \u001b[0;36mloadtxt\u001b[0;34m(fname, dtype, comments, delimiter, converters, skiprows, usecols, unpack, ndmin, encoding, max_rows)\u001b[0m\n\u001b[1;32m   1137\u001b[0m         \u001b[0;31m# converting the data\u001b[0m\u001b[0;34m\u001b[0m\u001b[0;34m\u001b[0m\u001b[0;34m\u001b[0m\u001b[0m\n\u001b[1;32m   1138\u001b[0m         \u001b[0mX\u001b[0m \u001b[0;34m=\u001b[0m \u001b[0;32mNone\u001b[0m\u001b[0;34m\u001b[0m\u001b[0;34m\u001b[0m\u001b[0m\n\u001b[0;32m-> 1139\u001b[0;31m         \u001b[0;32mfor\u001b[0m \u001b[0mx\u001b[0m \u001b[0;32min\u001b[0m \u001b[0mread_data\u001b[0m\u001b[0;34m(\u001b[0m\u001b[0m_loadtxt_chunksize\u001b[0m\u001b[0;34m)\u001b[0m\u001b[0;34m:\u001b[0m\u001b[0;34m\u001b[0m\u001b[0;34m\u001b[0m\u001b[0m\n\u001b[0m\u001b[1;32m   1140\u001b[0m             \u001b[0;32mif\u001b[0m \u001b[0mX\u001b[0m \u001b[0;32mis\u001b[0m \u001b[0;32mNone\u001b[0m\u001b[0;34m:\u001b[0m\u001b[0;34m\u001b[0m\u001b[0;34m\u001b[0m\u001b[0m\n\u001b[1;32m   1141\u001b[0m                 \u001b[0mX\u001b[0m \u001b[0;34m=\u001b[0m \u001b[0mnp\u001b[0m\u001b[0;34m.\u001b[0m\u001b[0marray\u001b[0m\u001b[0;34m(\u001b[0m\u001b[0mx\u001b[0m\u001b[0;34m,\u001b[0m \u001b[0mdtype\u001b[0m\u001b[0;34m)\u001b[0m\u001b[0;34m\u001b[0m\u001b[0;34m\u001b[0m\u001b[0m\n",
      "\u001b[0;32m~/anaconda3/envs/pytorch/lib/python3.7/site-packages/numpy/lib/npyio.py\u001b[0m in \u001b[0;36mread_data\u001b[0;34m(chunk_size)\u001b[0m\n\u001b[1;32m   1065\u001b[0m \u001b[0;34m\u001b[0m\u001b[0m\n\u001b[1;32m   1066\u001b[0m             \u001b[0;31m# Convert each value according to its column and store\u001b[0m\u001b[0;34m\u001b[0m\u001b[0;34m\u001b[0m\u001b[0;34m\u001b[0m\u001b[0m\n\u001b[0;32m-> 1067\u001b[0;31m             \u001b[0mitems\u001b[0m \u001b[0;34m=\u001b[0m \u001b[0;34m[\u001b[0m\u001b[0mconv\u001b[0m\u001b[0;34m(\u001b[0m\u001b[0mval\u001b[0m\u001b[0;34m)\u001b[0m \u001b[0;32mfor\u001b[0m \u001b[0;34m(\u001b[0m\u001b[0mconv\u001b[0m\u001b[0;34m,\u001b[0m \u001b[0mval\u001b[0m\u001b[0;34m)\u001b[0m \u001b[0;32min\u001b[0m \u001b[0mzip\u001b[0m\u001b[0;34m(\u001b[0m\u001b[0mconverters\u001b[0m\u001b[0;34m,\u001b[0m \u001b[0mvals\u001b[0m\u001b[0;34m)\u001b[0m\u001b[0;34m]\u001b[0m\u001b[0;34m\u001b[0m\u001b[0;34m\u001b[0m\u001b[0m\n\u001b[0m\u001b[1;32m   1068\u001b[0m \u001b[0;34m\u001b[0m\u001b[0m\n\u001b[1;32m   1069\u001b[0m             \u001b[0;31m# Then pack it according to the dtype's nesting\u001b[0m\u001b[0;34m\u001b[0m\u001b[0;34m\u001b[0m\u001b[0;34m\u001b[0m\u001b[0m\n",
      "\u001b[0;32m~/anaconda3/envs/pytorch/lib/python3.7/site-packages/numpy/lib/npyio.py\u001b[0m in \u001b[0;36m<listcomp>\u001b[0;34m(.0)\u001b[0m\n\u001b[1;32m   1065\u001b[0m \u001b[0;34m\u001b[0m\u001b[0m\n\u001b[1;32m   1066\u001b[0m             \u001b[0;31m# Convert each value according to its column and store\u001b[0m\u001b[0;34m\u001b[0m\u001b[0;34m\u001b[0m\u001b[0;34m\u001b[0m\u001b[0m\n\u001b[0;32m-> 1067\u001b[0;31m             \u001b[0mitems\u001b[0m \u001b[0;34m=\u001b[0m \u001b[0;34m[\u001b[0m\u001b[0mconv\u001b[0m\u001b[0;34m(\u001b[0m\u001b[0mval\u001b[0m\u001b[0;34m)\u001b[0m \u001b[0;32mfor\u001b[0m \u001b[0;34m(\u001b[0m\u001b[0mconv\u001b[0m\u001b[0;34m,\u001b[0m \u001b[0mval\u001b[0m\u001b[0;34m)\u001b[0m \u001b[0;32min\u001b[0m \u001b[0mzip\u001b[0m\u001b[0;34m(\u001b[0m\u001b[0mconverters\u001b[0m\u001b[0;34m,\u001b[0m \u001b[0mvals\u001b[0m\u001b[0;34m)\u001b[0m\u001b[0;34m]\u001b[0m\u001b[0;34m\u001b[0m\u001b[0;34m\u001b[0m\u001b[0m\n\u001b[0m\u001b[1;32m   1068\u001b[0m \u001b[0;34m\u001b[0m\u001b[0m\n\u001b[1;32m   1069\u001b[0m             \u001b[0;31m# Then pack it according to the dtype's nesting\u001b[0m\u001b[0;34m\u001b[0m\u001b[0;34m\u001b[0m\u001b[0;34m\u001b[0m\u001b[0m\n",
      "\u001b[0;32m~/anaconda3/envs/pytorch/lib/python3.7/site-packages/numpy/lib/npyio.py\u001b[0m in \u001b[0;36mfloatconv\u001b[0;34m(x)\u001b[0m\n\u001b[1;32m    761\u001b[0m         \u001b[0;32mif\u001b[0m \u001b[0;34m'0x'\u001b[0m \u001b[0;32min\u001b[0m \u001b[0mx\u001b[0m\u001b[0;34m:\u001b[0m\u001b[0;34m\u001b[0m\u001b[0;34m\u001b[0m\u001b[0m\n\u001b[1;32m    762\u001b[0m             \u001b[0;32mreturn\u001b[0m \u001b[0mfloat\u001b[0m\u001b[0;34m.\u001b[0m\u001b[0mfromhex\u001b[0m\u001b[0;34m(\u001b[0m\u001b[0mx\u001b[0m\u001b[0;34m)\u001b[0m\u001b[0;34m\u001b[0m\u001b[0;34m\u001b[0m\u001b[0m\n\u001b[0;32m--> 763\u001b[0;31m         \u001b[0;32mreturn\u001b[0m \u001b[0mfloat\u001b[0m\u001b[0;34m(\u001b[0m\u001b[0mx\u001b[0m\u001b[0;34m)\u001b[0m\u001b[0;34m\u001b[0m\u001b[0;34m\u001b[0m\u001b[0m\n\u001b[0m\u001b[1;32m    764\u001b[0m \u001b[0;34m\u001b[0m\u001b[0m\n\u001b[1;32m    765\u001b[0m     \u001b[0mtyp\u001b[0m \u001b[0;34m=\u001b[0m \u001b[0mdtype\u001b[0m\u001b[0;34m.\u001b[0m\u001b[0mtype\u001b[0m\u001b[0;34m\u001b[0m\u001b[0;34m\u001b[0m\u001b[0m\n",
      "\u001b[0;31mValueError\u001b[0m: could not convert string to float: '0.103360 -0.097800 -0.098760 -0.119900 -0.375500 0.919000 3.000000'"
     ]
    }
   ],
   "source": [
    "point_set = np.loadtxt(file_path, delimiter=',').astype(np.float32)[:, 0:3]\n",
    "downsampling_small_patch = get_small_patch(point_set, 1024, 2, 8)\n",
    "visualize_samples(downsampling_small_patch)"
   ]
  },
  {
   "cell_type": "code",
   "execution_count": 130,
   "metadata": {},
   "outputs": [
    {
     "name": "stdout",
     "output_type": "stream",
     "text": [
      "Text Saved!\n",
      "PNG Saved!\n",
      "Text Saved!\n",
      "PNG Saved!\n"
     ]
    }
   ],
   "source": [
    "point_set = np.loadtxt(file_path, delimiter=',').astype(np.float32)[:, 0:3]\n",
    "# 循环0，1，2 + 0-8\n",
    "ds, bf, axis, sli = get_small_patch(point_set, 1024, 2, 8)\n",
    "save_new(bf, ds, axis, sli)"
   ]
  },
  {
   "cell_type": "markdown",
   "metadata": {},
   "source": [
    "#### cube切割"
   ]
  },
  {
   "cell_type": "code",
   "execution_count": 20,
   "metadata": {},
   "outputs": [],
   "source": [
    "# length setting\n",
    "space_len = 1.0 + 1.0\n",
    "cube_length = 0.5 * space_len\n",
    "step_size = 0.125 * space_len\n",
    "cube_per_axis = 5\n",
    "\n",
    "# [-0.5, -0.25, 0.0, 0.25, 0.5]\n",
    "def compute_axis_coordinate(num, step_size, cube_length):\n",
    "    result = []\n",
    "    initial_center = -1.0 + 0.5 * cube_length\n",
    "    for i in range(num):\n",
    "        result.append(initial_center)\n",
    "        initial_center += step_size\n",
    "    return result\n",
    "\n",
    "# [125, 3] coordinates of centers\n",
    "def compute_center_coordiantes():\n",
    "    # 为了方便这里直接写死了\n",
    "    axis_coordinate = [-0.5, -0.25, 0.0, 0.25, 0.5]\n",
    "    result = np.zeros([125, 3])\n",
    "    for num in range(125):\n",
    "        t0 = num / 25\n",
    "        t0 = int(t0) % 5\n",
    "        result[num][0] = axis_coordinate[t0]\n",
    "        # y\n",
    "        t1 = num / 5\n",
    "        t1 = int(t1) % 5\n",
    "        result[num][1] = axis_coordinate[t1]\n",
    "        # z\n",
    "        t2 = num % 5\n",
    "        result[num][2] = axis_coordinate[t2]\n",
    "    return result\n",
    "\n",
    "def point_in_cube(point_xyz, center_xyz, cube_length):\n",
    "    flag = 0\n",
    "    lwh = 0.5 * cube_length\n",
    "    for i in range(3):\n",
    "        low = center_xyz[i] - lwh\n",
    "        high = center_xyz[i] + lwh\n",
    "        if low<point_xyz[i] and point_xyz[i]<high:\n",
    "            flag+=1 \n",
    "    if flag == 3:\n",
    "        return True\n",
    "    else:\n",
    "        return False\n",
    "\n",
    "def satisfy_one_cube(point_set, npoints, cube_length):\n",
    "    # 得到所有的cube的中心点\n",
    "    center_xyzs = compute_center_coordiantes()\n",
    "    num_all_satisfied = 0\n",
    "    \n",
    "    for i in range(len(center_xyzs)):\n",
    "        output_samples_index = 0\n",
    "        for j in range(len(point_set)):\n",
    "            if point_in_cube(point_set[j], center_xyzs[i], cube_length):\n",
    "                output_samples_index += 1\n",
    "        if output_samples_index >= npoints:\n",
    "            num_all_satisfied += 1\n",
    "        else:\n",
    "            print(\"Not enough points here: \", i, \" only \", output_samples_index, \" points\")\n",
    "    return num_all_satisfied\n",
    "                \n",
    "    \n",
    "def get_downsamplings_by_cube(point_set, cube_index, cube_length=0.1, npoints=1024):\n",
    "    # 所有中心坐标的集合\n",
    "    center_xyzs = compute_center_coordiantes()\n",
    "    # 选出一个中心坐标出来\n",
    "    center_xyz = center_xyzs[cube_index]\n",
    "    # 存储满足条件的点的索引\n",
    "    output_samples = []\n",
    "\n",
    "    for i in range(len(point_set)):\n",
    "        if point_in_cube(point_set[i], center_xyz, cube_length):\n",
    "            output_samples.append(i)\n",
    "            \n",
    "    if  len(output_samples) >= npoints:\n",
    "        samples = point_set[output_samples]\n",
    "        downsampling = fps_center(samples, npoints)\n",
    "        return downsampling\n",
    "    else:\n",
    "        print(\"There are not enought number of points in this cube\")\n",
    "    "
   ]
  },
  {
   "cell_type": "code",
   "execution_count": 104,
   "metadata": {
    "collapsed": true
   },
   "outputs": [
    {
     "name": "stdout",
     "output_type": "stream",
     "text": [
      "Not enough points here:  0  only  261  points\n",
      "Not enough points here:  1  only  494  points\n",
      "Not enough points here:  2  only  494  points\n",
      "Not enough points here:  3  only  494  points\n",
      "Not enough points here:  4  only  233  points\n",
      "Not enough points here:  5  only  681  points\n",
      "Not enough points here:  9  only  645  points\n",
      "Not enough points here:  10  only  860  points\n",
      "Not enough points here:  14  only  825  points\n",
      "Not enough points here:  15  only  827  points\n",
      "Not enough points here:  19  only  787  points\n",
      "Not enough points here:  20  only  599  points\n",
      "Not enough points here:  24  only  592  points\n",
      "Not enough points here:  25  only  569  points\n",
      "Not enough points here:  29  only  523  points\n",
      "Not enough points here:  45  only  825  points\n",
      "Not enough points here:  49  only  818  points\n",
      "Not enough points here:  50  only  569  points\n",
      "Not enough points here:  54  only  523  points\n",
      "Not enough points here:  70  only  825  points\n",
      "Not enough points here:  74  only  818  points\n",
      "Not enough points here:  75  only  569  points\n",
      "Not enough points here:  79  only  523  points\n",
      "Not enough points here:  95  only  825  points\n",
      "Not enough points here:  99  only  818  points\n",
      "Not enough points here:  100  only  308  points\n",
      "Not enough points here:  101  only  599  points\n",
      "Not enough points here:  102  only  599  points\n",
      "Not enough points here:  103  only  599  points\n",
      "Not enough points here:  104  only  290  points\n",
      "Not enough points here:  105  only  534  points\n",
      "Not enough points here:  109  only  516  points\n",
      "Not enough points here:  110  only  534  points\n",
      "Not enough points here:  114  only  516  points\n",
      "Not enough points here:  115  only  498  points\n",
      "Not enough points here:  116  only  980  points\n",
      "Not enough points here:  117  only  980  points\n",
      "Not enough points here:  118  only  980  points\n",
      "Not enough points here:  119  only  481  points\n",
      "Not enough points here:  120  only  226  points\n",
      "Not enough points here:  121  only  452  points\n",
      "Not enough points here:  122  only  452  points\n",
      "Not enough points here:  123  only  452  points\n",
      "Not enough points here:  124  only  226  points\n"
     ]
    },
    {
     "data": {
      "text/plain": [
       "81"
      ]
     },
     "execution_count": 104,
     "metadata": {},
     "output_type": "execute_result"
    }
   ],
   "source": [
    "num = satisfy_one_cube(point_set, 1024, cube_length)\n",
    "num"
   ]
  },
  {
   "cell_type": "code",
   "execution_count": 21,
   "metadata": {
    "collapsed": true
   },
   "outputs": [
    {
     "data": {
      "text/plain": [
       "array([[-0.5 , -0.5 , -0.5 ],\n",
       "       [-0.5 , -0.5 , -0.25],\n",
       "       [-0.5 , -0.5 ,  0.  ],\n",
       "       [-0.5 , -0.5 ,  0.25],\n",
       "       [-0.5 , -0.5 ,  0.5 ],\n",
       "       [-0.5 , -0.25, -0.5 ],\n",
       "       [-0.5 , -0.25, -0.25],\n",
       "       [-0.5 , -0.25,  0.  ],\n",
       "       [-0.5 , -0.25,  0.25],\n",
       "       [-0.5 , -0.25,  0.5 ],\n",
       "       [-0.5 ,  0.  , -0.5 ],\n",
       "       [-0.5 ,  0.  , -0.25],\n",
       "       [-0.5 ,  0.  ,  0.  ],\n",
       "       [-0.5 ,  0.  ,  0.25],\n",
       "       [-0.5 ,  0.  ,  0.5 ],\n",
       "       [-0.5 ,  0.25, -0.5 ],\n",
       "       [-0.5 ,  0.25, -0.25],\n",
       "       [-0.5 ,  0.25,  0.  ],\n",
       "       [-0.5 ,  0.25,  0.25],\n",
       "       [-0.5 ,  0.25,  0.5 ],\n",
       "       [-0.5 ,  0.5 , -0.5 ],\n",
       "       [-0.5 ,  0.5 , -0.25],\n",
       "       [-0.5 ,  0.5 ,  0.  ],\n",
       "       [-0.5 ,  0.5 ,  0.25],\n",
       "       [-0.5 ,  0.5 ,  0.5 ],\n",
       "       [-0.25, -0.5 , -0.5 ],\n",
       "       [-0.25, -0.5 , -0.25],\n",
       "       [-0.25, -0.5 ,  0.  ],\n",
       "       [-0.25, -0.5 ,  0.25],\n",
       "       [-0.25, -0.5 ,  0.5 ],\n",
       "       [-0.25, -0.25, -0.5 ],\n",
       "       [-0.25, -0.25, -0.25],\n",
       "       [-0.25, -0.25,  0.  ],\n",
       "       [-0.25, -0.25,  0.25],\n",
       "       [-0.25, -0.25,  0.5 ],\n",
       "       [-0.25,  0.  , -0.5 ],\n",
       "       [-0.25,  0.  , -0.25],\n",
       "       [-0.25,  0.  ,  0.  ],\n",
       "       [-0.25,  0.  ,  0.25],\n",
       "       [-0.25,  0.  ,  0.5 ],\n",
       "       [-0.25,  0.25, -0.5 ],\n",
       "       [-0.25,  0.25, -0.25],\n",
       "       [-0.25,  0.25,  0.  ],\n",
       "       [-0.25,  0.25,  0.25],\n",
       "       [-0.25,  0.25,  0.5 ],\n",
       "       [-0.25,  0.5 , -0.5 ],\n",
       "       [-0.25,  0.5 , -0.25],\n",
       "       [-0.25,  0.5 ,  0.  ],\n",
       "       [-0.25,  0.5 ,  0.25],\n",
       "       [-0.25,  0.5 ,  0.5 ],\n",
       "       [ 0.  , -0.5 , -0.5 ],\n",
       "       [ 0.  , -0.5 , -0.25],\n",
       "       [ 0.  , -0.5 ,  0.  ],\n",
       "       [ 0.  , -0.5 ,  0.25],\n",
       "       [ 0.  , -0.5 ,  0.5 ],\n",
       "       [ 0.  , -0.25, -0.5 ],\n",
       "       [ 0.  , -0.25, -0.25],\n",
       "       [ 0.  , -0.25,  0.  ],\n",
       "       [ 0.  , -0.25,  0.25],\n",
       "       [ 0.  , -0.25,  0.5 ],\n",
       "       [ 0.  ,  0.  , -0.5 ],\n",
       "       [ 0.  ,  0.  , -0.25],\n",
       "       [ 0.  ,  0.  ,  0.  ],\n",
       "       [ 0.  ,  0.  ,  0.25],\n",
       "       [ 0.  ,  0.  ,  0.5 ],\n",
       "       [ 0.  ,  0.25, -0.5 ],\n",
       "       [ 0.  ,  0.25, -0.25],\n",
       "       [ 0.  ,  0.25,  0.  ],\n",
       "       [ 0.  ,  0.25,  0.25],\n",
       "       [ 0.  ,  0.25,  0.5 ],\n",
       "       [ 0.  ,  0.5 , -0.5 ],\n",
       "       [ 0.  ,  0.5 , -0.25],\n",
       "       [ 0.  ,  0.5 ,  0.  ],\n",
       "       [ 0.  ,  0.5 ,  0.25],\n",
       "       [ 0.  ,  0.5 ,  0.5 ],\n",
       "       [ 0.25, -0.5 , -0.5 ],\n",
       "       [ 0.25, -0.5 , -0.25],\n",
       "       [ 0.25, -0.5 ,  0.  ],\n",
       "       [ 0.25, -0.5 ,  0.25],\n",
       "       [ 0.25, -0.5 ,  0.5 ],\n",
       "       [ 0.25, -0.25, -0.5 ],\n",
       "       [ 0.25, -0.25, -0.25],\n",
       "       [ 0.25, -0.25,  0.  ],\n",
       "       [ 0.25, -0.25,  0.25],\n",
       "       [ 0.25, -0.25,  0.5 ],\n",
       "       [ 0.25,  0.  , -0.5 ],\n",
       "       [ 0.25,  0.  , -0.25],\n",
       "       [ 0.25,  0.  ,  0.  ],\n",
       "       [ 0.25,  0.  ,  0.25],\n",
       "       [ 0.25,  0.  ,  0.5 ],\n",
       "       [ 0.25,  0.25, -0.5 ],\n",
       "       [ 0.25,  0.25, -0.25],\n",
       "       [ 0.25,  0.25,  0.  ],\n",
       "       [ 0.25,  0.25,  0.25],\n",
       "       [ 0.25,  0.25,  0.5 ],\n",
       "       [ 0.25,  0.5 , -0.5 ],\n",
       "       [ 0.25,  0.5 , -0.25],\n",
       "       [ 0.25,  0.5 ,  0.  ],\n",
       "       [ 0.25,  0.5 ,  0.25],\n",
       "       [ 0.25,  0.5 ,  0.5 ],\n",
       "       [ 0.5 , -0.5 , -0.5 ],\n",
       "       [ 0.5 , -0.5 , -0.25],\n",
       "       [ 0.5 , -0.5 ,  0.  ],\n",
       "       [ 0.5 , -0.5 ,  0.25],\n",
       "       [ 0.5 , -0.5 ,  0.5 ],\n",
       "       [ 0.5 , -0.25, -0.5 ],\n",
       "       [ 0.5 , -0.25, -0.25],\n",
       "       [ 0.5 , -0.25,  0.  ],\n",
       "       [ 0.5 , -0.25,  0.25],\n",
       "       [ 0.5 , -0.25,  0.5 ],\n",
       "       [ 0.5 ,  0.  , -0.5 ],\n",
       "       [ 0.5 ,  0.  , -0.25],\n",
       "       [ 0.5 ,  0.  ,  0.  ],\n",
       "       [ 0.5 ,  0.  ,  0.25],\n",
       "       [ 0.5 ,  0.  ,  0.5 ],\n",
       "       [ 0.5 ,  0.25, -0.5 ],\n",
       "       [ 0.5 ,  0.25, -0.25],\n",
       "       [ 0.5 ,  0.25,  0.  ],\n",
       "       [ 0.5 ,  0.25,  0.25],\n",
       "       [ 0.5 ,  0.25,  0.5 ],\n",
       "       [ 0.5 ,  0.5 , -0.5 ],\n",
       "       [ 0.5 ,  0.5 , -0.25],\n",
       "       [ 0.5 ,  0.5 ,  0.  ],\n",
       "       [ 0.5 ,  0.5 ,  0.25],\n",
       "       [ 0.5 ,  0.5 ,  0.5 ]])"
      ]
     },
     "execution_count": 21,
     "metadata": {},
     "output_type": "execute_result"
    }
   ],
   "source": [
    "# 显示cube中心坐标：\n",
    "compute_center_coordiantes()"
   ]
  },
  {
   "cell_type": "markdown",
   "metadata": {},
   "source": [
    "大概只有19个是不满足的，所以还是可以选择20个出来的"
   ]
  },
  {
   "cell_type": "code",
   "execution_count": 23,
   "metadata": {
    "collapsed": true
   },
   "outputs": [
    {
     "name": "stdout",
     "output_type": "stream",
     "text": [
      "There are not enought number of points in this cube\n"
     ]
    },
    {
     "ename": "TypeError",
     "evalue": "object of type 'NoneType' has no len()",
     "output_type": "error",
     "traceback": [
      "\u001b[0;31m---------------------------------------------------------------------------\u001b[0m",
      "\u001b[0;31mTypeError\u001b[0m                                 Traceback (most recent call last)",
      "\u001b[0;32m<ipython-input-23-a9d203834e82>\u001b[0m in \u001b[0;36m<module>\u001b[0;34m\u001b[0m\n\u001b[1;32m      2\u001b[0m \u001b[0mpoint_set\u001b[0m \u001b[0;34m=\u001b[0m \u001b[0mnp\u001b[0m\u001b[0;34m.\u001b[0m\u001b[0mloadtxt\u001b[0m\u001b[0;34m(\u001b[0m\u001b[0mfile_path\u001b[0m\u001b[0;34m,\u001b[0m \u001b[0mdelimiter\u001b[0m\u001b[0;34m=\u001b[0m\u001b[0;34m' '\u001b[0m\u001b[0;34m)\u001b[0m\u001b[0;34m.\u001b[0m\u001b[0mastype\u001b[0m\u001b[0;34m(\u001b[0m\u001b[0mnp\u001b[0m\u001b[0;34m.\u001b[0m\u001b[0mfloat32\u001b[0m\u001b[0;34m)\u001b[0m\u001b[0;34m[\u001b[0m\u001b[0;34m:\u001b[0m\u001b[0;34m,\u001b[0m \u001b[0;36m0\u001b[0m\u001b[0;34m:\u001b[0m\u001b[0;36m3\u001b[0m\u001b[0;34m]\u001b[0m\u001b[0;34m\u001b[0m\u001b[0;34m\u001b[0m\u001b[0m\n\u001b[1;32m      3\u001b[0m \u001b[0mdownsampling_cube\u001b[0m \u001b[0;34m=\u001b[0m \u001b[0mget_downsamplings_by_cube\u001b[0m\u001b[0;34m(\u001b[0m\u001b[0mpoint_set\u001b[0m\u001b[0;34m,\u001b[0m \u001b[0;36m98\u001b[0m\u001b[0;34m,\u001b[0m \u001b[0;36m1\u001b[0m\u001b[0;34m,\u001b[0m \u001b[0;36m1024\u001b[0m\u001b[0;34m)\u001b[0m\u001b[0;34m\u001b[0m\u001b[0;34m\u001b[0m\u001b[0m\n\u001b[0;32m----> 4\u001b[0;31m \u001b[0mvisualize_samples\u001b[0m\u001b[0;34m(\u001b[0m\u001b[0mdownsampling_cube\u001b[0m\u001b[0;34m)\u001b[0m\u001b[0;34m\u001b[0m\u001b[0;34m\u001b[0m\u001b[0m\n\u001b[0m",
      "\u001b[0;32m<ipython-input-4-26518abec128>\u001b[0m in \u001b[0;36mvisualize_samples\u001b[0;34m(d_sample)\u001b[0m\n\u001b[1;32m      1\u001b[0m \u001b[0;32mdef\u001b[0m \u001b[0mvisualize_samples\u001b[0m\u001b[0;34m(\u001b[0m\u001b[0md_sample\u001b[0m\u001b[0;34m)\u001b[0m\u001b[0;34m:\u001b[0m\u001b[0;34m\u001b[0m\u001b[0;34m\u001b[0m\u001b[0m\n\u001b[0;32m----> 2\u001b[0;31m     \u001b[0mprint\u001b[0m\u001b[0;34m(\u001b[0m\u001b[0;34m\"Points in downsample set: \"\u001b[0m\u001b[0;34m,\u001b[0m \u001b[0mlen\u001b[0m\u001b[0;34m(\u001b[0m\u001b[0md_sample\u001b[0m\u001b[0;34m)\u001b[0m\u001b[0;34m)\u001b[0m\u001b[0;34m\u001b[0m\u001b[0;34m\u001b[0m\u001b[0m\n\u001b[0m\u001b[1;32m      3\u001b[0m     \u001b[0msource\u001b[0m \u001b[0;34m=\u001b[0m \u001b[0mo3d\u001b[0m\u001b[0;34m.\u001b[0m\u001b[0mgeometry\u001b[0m\u001b[0;34m.\u001b[0m\u001b[0mPointCloud\u001b[0m\u001b[0;34m(\u001b[0m\u001b[0;34m)\u001b[0m\u001b[0;34m\u001b[0m\u001b[0;34m\u001b[0m\u001b[0m\n\u001b[1;32m      4\u001b[0m     \u001b[0msource\u001b[0m\u001b[0;34m.\u001b[0m\u001b[0mpoints\u001b[0m \u001b[0;34m=\u001b[0m \u001b[0mo3d\u001b[0m\u001b[0;34m.\u001b[0m\u001b[0mutility\u001b[0m\u001b[0;34m.\u001b[0m\u001b[0mVector3dVector\u001b[0m\u001b[0;34m(\u001b[0m\u001b[0md_sample\u001b[0m\u001b[0;34m)\u001b[0m\u001b[0;34m\u001b[0m\u001b[0;34m\u001b[0m\u001b[0m\n\u001b[1;32m      5\u001b[0m     \u001b[0mcolor\u001b[0m \u001b[0;34m=\u001b[0m \u001b[0;34m[\u001b[0m\u001b[0;36m102.0\u001b[0m \u001b[0;34m/\u001b[0m \u001b[0;36m255.0\u001b[0m \u001b[0;34m,\u001b[0m\u001b[0;36m111.0\u001b[0m \u001b[0;34m/\u001b[0m \u001b[0;36m255.0\u001b[0m\u001b[0;34m,\u001b[0m \u001b[0;36m142.0\u001b[0m \u001b[0;34m/\u001b[0m \u001b[0;36m255.0\u001b[0m\u001b[0;34m]\u001b[0m\u001b[0;34m\u001b[0m\u001b[0;34m\u001b[0m\u001b[0m\n",
      "\u001b[0;31mTypeError\u001b[0m: object of type 'NoneType' has no len()"
     ]
    }
   ],
   "source": [
    "# 可视化\n",
    "point_set = np.loadtxt(file_path, delimiter=',').astype(np.float32)[:, 0:3]\n",
    "downsampling_cube = get_downsamplings_by_cube(point_set, 98, 1, 1024)\n",
    "visualize_samples(downsampling_cube)"
   ]
  },
  {
   "cell_type": "code",
   "execution_count": 37,
   "metadata": {},
   "outputs": [],
   "source": [
    "# 上面验证完毕，接下来就是重写这个方法，得到fps前后的，然后保存\n",
    "def get_cube_sample(point_set, cube_index, cube_length, npoints):\n",
    "    center_xyzs = compute_center_coordiantes()\n",
    "    center_xyz = center_xyzs[cube_index]\n",
    "    output_samples = []\n",
    "\n",
    "    for i in range(len(point_set)):\n",
    "        if point_in_cube(point_set[i], center_xyz, cube_length):\n",
    "            output_samples.append(i)\n",
    "            \n",
    "    if  len(output_samples) >= npoints:\n",
    "        samples = point_set[output_samples]\n",
    "        downsampling = fps_center(samples, npoints)\n",
    "        # bf, ds, idx, c_xyz\n",
    "        return (samples, downsampling, cube_index)\n",
    "    else:\n",
    "        print(\"There are not enought number of points in this cube\")"
   ]
  },
  {
   "cell_type": "code",
   "execution_count": 9,
   "metadata": {},
   "outputs": [],
   "source": [
    "def save_cube(bf, ds, idx):\n",
    "    now_bf = \"Before_fps_\" + str(idx)\n",
    "    save_txt(bf, now_bf)\n",
    "    save_png(bf, now_bf)\n",
    "    \n",
    "    now = str(idx)\n",
    "    save_txt(ds, now)\n",
    "    save_png(ds, now)"
   ]
  },
  {
   "cell_type": "code",
   "execution_count": 66,
   "metadata": {},
   "outputs": [
    {
     "name": "stdout",
     "output_type": "stream",
     "text": [
      "Text Saved!\n",
      "PNG Saved!\n",
      "Text Saved!\n",
      "PNG Saved!\n"
     ]
    }
   ],
   "source": [
    "bf, ds, idx = get_cube_sample(point_set, 61, 1, 1024)\n",
    "save_cube(bf, ds, idx)"
   ]
  },
  {
   "cell_type": "markdown",
   "metadata": {},
   "source": [
    "### cube for shapenet"
   ]
  },
  {
   "cell_type": "code",
   "execution_count": 25,
   "metadata": {},
   "outputs": [],
   "source": [
    "# length setting\n",
    "space_len = 0.5 + 0.5\n",
    "cube_length = 0.66 * space_len\n",
    "step_size = 0.33 * space_len\n",
    "cube_per_axis = 2\n",
    "\n",
    "def compute_axis_coordinate_sn(cube_per_axis, step_size, cube_length):\n",
    "    result = []\n",
    "    initial_center = -0.5 + 0.5 * cube_length\n",
    "    for i in range(cube_per_axis):\n",
    "        result.append(initial_center)\n",
    "        initial_center += step_size\n",
    "    return result\n",
    "\n",
    "# [8, 3] coordinates of centers\n",
    "def compute_center_coordiantes_sn():\n",
    "    # 为了方便这里直接写死了\n",
    "    axis_coordinate = [-0.165, 0.165]\n",
    "    # axis_coordinate = [-0.125, 0.125]\n",
    "    result = np.zeros([8, 3])\n",
    "    for num in range(8):\n",
    "        t0 = num / 4\n",
    "        t0 = int(t0) % 2\n",
    "        result[num][0] = axis_coordinate[t0]\n",
    "        # y\n",
    "        t1 = num / 2\n",
    "        t1 = int(t1) % 2\n",
    "        result[num][1] = axis_coordinate[t1]\n",
    "        # z\n",
    "        t2 = num % 2\n",
    "        result[num][2] = axis_coordinate[t2]\n",
    "    return result\n",
    "\n",
    "def point_in_cube(point_xyz, center_xyz, cube_length):\n",
    "    flag = 0\n",
    "    lwh = 0.5 * cube_length\n",
    "    for i in range(3):\n",
    "        low = center_xyz[i] - lwh\n",
    "        high = center_xyz[i] + lwh\n",
    "        if low<point_xyz[i] and point_xyz[i]<high:\n",
    "            flag+=1 \n",
    "    if flag == 3:\n",
    "        return True\n",
    "    else:\n",
    "        return False\n",
    "\n",
    "def satisfy_one_cube(point_set, npoints, cube_length):\n",
    "    # 得到所有的cube的中心点\n",
    "    center_xyzs = compute_center_coordiantes_sn()\n",
    "    num_all_satisfied = 0\n",
    "    \n",
    "    for i in range(len(center_xyzs)):\n",
    "        output_samples_index = 0\n",
    "        for j in range(len(point_set)):\n",
    "            if point_in_cube(point_set[j], center_xyzs[i], cube_length):\n",
    "                output_samples_index += 1\n",
    "        if output_samples_index >= npoints:\n",
    "            num_all_satisfied += 1\n",
    "        else:\n",
    "            print(\"Not enough points here: \", i, \" only \", output_samples_index, \" points\")\n",
    "    return num_all_satisfied\n",
    "                \n",
    "    \n",
    "def get_downsamplings_by_cube_sn(point_set, cube_index, cube_length, npoints):\n",
    "    # 所有中心坐标的集合\n",
    "    center_xyzs = compute_center_coordiantes_sn()\n",
    "    # 选出一个中心坐标出来\n",
    "    center_xyz = center_xyzs[cube_index]\n",
    "    # 存储满足条件的点的索引\n",
    "    output_samples = []\n",
    "\n",
    "    for i in range(len(point_set)):\n",
    "        if point_in_cube(point_set[i], center_xyz, cube_length):\n",
    "            output_samples.append(i)\n",
    "            \n",
    "    if  len(output_samples) >= npoints:\n",
    "        samples = point_set[output_samples]\n",
    "        downsampling = fps_center(samples, npoints)\n",
    "        return downsampling\n",
    "    else:\n",
    "        print(\"There are not enought number of points in this cube\")"
   ]
  },
  {
   "cell_type": "code",
   "execution_count": 26,
   "metadata": {},
   "outputs": [
    {
     "data": {
      "text/plain": [
       "[-0.16999999999999998, 0.16000000000000003]"
      ]
     },
     "execution_count": 26,
     "metadata": {},
     "output_type": "execute_result"
    }
   ],
   "source": [
    "compute_axis_coordinate_sn(cube_per_axis, step_size, cube_length)"
   ]
  },
  {
   "cell_type": "code",
   "execution_count": 27,
   "metadata": {
    "scrolled": true
   },
   "outputs": [
    {
     "data": {
      "text/plain": [
       "array([[-0.165, -0.165, -0.165],\n",
       "       [-0.165, -0.165,  0.165],\n",
       "       [-0.165,  0.165, -0.165],\n",
       "       [-0.165,  0.165,  0.165],\n",
       "       [ 0.165, -0.165, -0.165],\n",
       "       [ 0.165, -0.165,  0.165],\n",
       "       [ 0.165,  0.165, -0.165],\n",
       "       [ 0.165,  0.165,  0.165]])"
      ]
     },
     "execution_count": 27,
     "metadata": {},
     "output_type": "execute_result"
    }
   ],
   "source": [
    "compute_center_coordiantes_sn()"
   ]
  },
  {
   "cell_type": "code",
   "execution_count": 28,
   "metadata": {},
   "outputs": [
    {
     "data": {
      "text/plain": [
       "'/home/akira/下载/Pointnet2_PyTorch-master/PCT/Point-Transformers-master/data/shapenetcore_partanno_segmentation_benchmark_v0_normal/02691156/1c27d282735f81211063b9885ddcbb1.txt'"
      ]
     },
     "execution_count": 28,
     "metadata": {},
     "output_type": "execute_result"
    }
   ],
   "source": [
    "file_path"
   ]
  },
  {
   "cell_type": "code",
   "execution_count": 29,
   "metadata": {},
   "outputs": [
    {
     "name": "stdout",
     "output_type": "stream",
     "text": [
      "Points in downsample set:  1024\n"
     ]
    }
   ],
   "source": [
    "# 验证\n",
    "point_set = np.loadtxt(file_path, delimiter=' ').astype(np.float32)[:, 0:3]\n",
    "downsampling_cube = get_downsamplings_by_cube_sn(point_set, 4, 0.66, 1024)\n",
    "visualize_samples(downsampling_cube)"
   ]
  },
  {
   "cell_type": "code",
   "execution_count": 113,
   "metadata": {},
   "outputs": [],
   "source": [
    "# 上面验证完毕，接下来就是重写这个方法，得到fps前后的，然后保存\n",
    "def get_cube_sample_sn(point_set, cube_index, cube_length, npoints):\n",
    "    center_xyzs = compute_center_coordiantes_sn()\n",
    "    center_xyz = center_xyzs[cube_index]\n",
    "    output_samples = []\n",
    "\n",
    "    for i in range(len(point_set)):\n",
    "        if point_in_cube(point_set[i], center_xyz, cube_length):\n",
    "            output_samples.append(i)\n",
    "            \n",
    "    if  len(output_samples) >= npoints:\n",
    "        samples = point_set[output_samples]\n",
    "        downsampling = fps_center(samples, npoints)\n",
    "        # bf, ds, idx, c_xyz\n",
    "        return (samples, downsampling, cube_index)\n",
    "    else:\n",
    "        print(\"There are not enought number of points in this cube\")"
   ]
  },
  {
   "cell_type": "code",
   "execution_count": 121,
   "metadata": {},
   "outputs": [
    {
     "name": "stdout",
     "output_type": "stream",
     "text": [
      "Text Saved!\n",
      "PNG Saved!\n",
      "Text Saved!\n",
      "PNG Saved!\n"
     ]
    }
   ],
   "source": [
    "bf, ds, idx = get_cube_sample_sn(point_set, 7, 0.66, 1024)\n",
    "save_cube(bf, ds, idx)"
   ]
  },
  {
   "cell_type": "code",
   "execution_count": 90,
   "metadata": {},
   "outputs": [
    {
     "data": {
      "text/plain": [
       "array([[0., 0., 0.],\n",
       "       [0., 0., 0.],\n",
       "       [0., 0., 0.],\n",
       "       [0., 0., 0.],\n",
       "       [0., 0., 0.],\n",
       "       [0., 0., 0.],\n",
       "       [0., 0., 0.]])"
      ]
     },
     "execution_count": 90,
     "metadata": {},
     "output_type": "execute_result"
    }
   ],
   "source": [
    "# 7个球，直径为空间总长度1/2，非中心6个球与原边界相切\n",
    "# 点的坐标：\n",
    "import numpy as np\n",
    "ball_center_xyzs = np.zeros((7, 3))\n",
    "ball_center_xyzs"
   ]
  },
  {
   "cell_type": "code",
   "execution_count": 91,
   "metadata": {
    "scrolled": true
   },
   "outputs": [
    {
     "name": "stdout",
     "output_type": "stream",
     "text": [
      "1 0\n",
      "2 0\n",
      "3 1\n",
      "4 1\n",
      "5 2\n",
      "6 2\n"
     ]
    },
    {
     "data": {
      "text/plain": [
       "array([[ 0.   ,  0.   ,  0.   ],\n",
       "       [ 0.165,  0.   ,  0.   ],\n",
       "       [-0.165,  0.   ,  0.   ],\n",
       "       [ 0.   ,  0.165,  0.   ],\n",
       "       [ 0.   , -0.165,  0.   ],\n",
       "       [ 0.   ,  0.   ,  0.165],\n",
       "       [ 0.   ,  0.   , -0.165]])"
      ]
     },
     "execution_count": 91,
     "metadata": {},
     "output_type": "execute_result"
    }
   ],
   "source": [
    "for i in range(1, len(ball_center_xyzs)):\n",
    "    if i%2 != 0:\n",
    "        j = int((i + 1) / 2 - 1)\n",
    "        print(i, j)\n",
    "        ball_center_xyzs[i][j] = 0.165\n",
    "    else:\n",
    "        j = int(i / 2 - 1)\n",
    "        print(i, j)\n",
    "        ball_center_xyzs[i][j] = -0.165\n",
    "ball_center_xyzs"
   ]
  },
  {
   "cell_type": "code",
   "execution_count": 92,
   "metadata": {},
   "outputs": [
    {
     "data": {
      "text/plain": [
       "array([[ 0.   ,  0.   ,  0.   ],\n",
       "       [ 0.165,  0.   ,  0.   ],\n",
       "       [-0.165,  0.   ,  0.   ],\n",
       "       [ 0.   ,  0.165,  0.   ],\n",
       "       [ 0.   , -0.165,  0.   ],\n",
       "       [ 0.   ,  0.   ,  0.165],\n",
       "       [ 0.   ,  0.   , -0.165]])"
      ]
     },
     "execution_count": 92,
     "metadata": {},
     "output_type": "execute_result"
    }
   ],
   "source": [
    "ball_center_xyzs"
   ]
  },
  {
   "cell_type": "code",
   "execution_count": 93,
   "metadata": {},
   "outputs": [],
   "source": [
    "# 判断一个点是否在球内\n",
    "def point_in_ball(point_xyz, center_xyz, radius):\n",
    "    # point_xyz和center_xyz 分别是点和球心的坐标\n",
    "    # radius是球的半径\n",
    "    flag = False\n",
    "    dist = 0\n",
    "    for i in range(3):\n",
    "        dist += (point_xyz[i] - center_xyz[i]) ** 2\n",
    "    if dist <= radius ** 2:\n",
    "        flag = True\n",
    "    return flag\n",
    "\n",
    "def get_downsamples_by_ball(point_set, ball_index, radius, npoints):\n",
    "    center_xyz = ball_center_xyzs[ball_index]\n",
    "    output_samples = []\n",
    "    for i in range(0, len(point_set)):\n",
    "        if point_in_ball(point_set[i], center_xyz, radius):\n",
    "            output_samples.append(i)\n",
    "    if len(output_samples) >= npoints:\n",
    "        samples = point_set[output_samples]\n",
    "        result = fps_center(samples, npoints)\n",
    "    return (samples, result, ball_index)\n",
    "\n",
    "def get_ds_ball(point_set, ball_index, radius, npoints):\n",
    "    center_xyz = ball_center_xyzs[ball_index]\n",
    "    output_samples = []\n",
    "    for i in range(0, len(point_set)):\n",
    "        if point_in_ball(point_set[i], center_xyz, radius):\n",
    "            output_samples.append(i)\n",
    "    if len(output_samples) >= npoints:\n",
    "        samples = point_set[output_samples]\n",
    "        result = fps_center(samples, npoints)\n",
    "    else:\n",
    "        print(\"Not enough points in this area: \", ball_index)\n",
    "    return result"
   ]
  },
  {
   "cell_type": "code",
   "execution_count": 94,
   "metadata": {},
   "outputs": [],
   "source": [
    "ds_test = get_ds_ball_sn(point_set, 3, 0.33, 1024)"
   ]
  },
  {
   "cell_type": "code",
   "execution_count": 95,
   "metadata": {},
   "outputs": [],
   "source": [
    "def save_txt_and_png(bf, d_sample, ball_index):\n",
    "    now_fb = 'Before_fps_' + str(ball_index)\n",
    "    save_png(bf, now_fb)\n",
    "    save_txt(bf, now_fb)\n",
    "    \n",
    "    now = str(ball_index)\n",
    "    save_png(d_sample, now)\n",
    "    save_txt(d_sample, now)"
   ]
  },
  {
   "cell_type": "code",
   "execution_count": 102,
   "metadata": {},
   "outputs": [
    {
     "ename": "IndexError",
     "evalue": "index 7 is out of bounds for axis 0 with size 7",
     "output_type": "error",
     "traceback": [
      "\u001b[0;31m---------------------------------------------------------------------------\u001b[0m",
      "\u001b[0;31mIndexError\u001b[0m                                Traceback (most recent call last)",
      "\u001b[0;32m<ipython-input-102-ec873006c9ce>\u001b[0m in \u001b[0;36m<module>\u001b[0;34m\u001b[0m\n\u001b[1;32m      1\u001b[0m \u001b[0mpoint_set\u001b[0m \u001b[0;34m=\u001b[0m \u001b[0mnp\u001b[0m\u001b[0;34m.\u001b[0m\u001b[0mloadtxt\u001b[0m\u001b[0;34m(\u001b[0m\u001b[0mfile_path\u001b[0m\u001b[0;34m,\u001b[0m \u001b[0mdelimiter\u001b[0m\u001b[0;34m=\u001b[0m\u001b[0;34m' '\u001b[0m\u001b[0;34m)\u001b[0m\u001b[0;34m.\u001b[0m\u001b[0mastype\u001b[0m\u001b[0;34m(\u001b[0m\u001b[0mnp\u001b[0m\u001b[0;34m.\u001b[0m\u001b[0mfloat32\u001b[0m\u001b[0;34m)\u001b[0m\u001b[0;34m[\u001b[0m\u001b[0;34m:\u001b[0m\u001b[0;34m,\u001b[0m \u001b[0;36m0\u001b[0m\u001b[0;34m:\u001b[0m\u001b[0;36m3\u001b[0m\u001b[0;34m]\u001b[0m\u001b[0;34m\u001b[0m\u001b[0;34m\u001b[0m\u001b[0m\n\u001b[0;32m----> 2\u001b[0;31m \u001b[0mbf\u001b[0m\u001b[0;34m,\u001b[0m \u001b[0mds\u001b[0m\u001b[0;34m,\u001b[0m \u001b[0mbix\u001b[0m \u001b[0;34m=\u001b[0m \u001b[0mget_downsamples_by_ball_sn\u001b[0m\u001b[0;34m(\u001b[0m\u001b[0mpoint_set\u001b[0m\u001b[0;34m,\u001b[0m \u001b[0;36m7\u001b[0m\u001b[0;34m,\u001b[0m \u001b[0;36m0.33\u001b[0m\u001b[0;34m,\u001b[0m \u001b[0;36m1024\u001b[0m\u001b[0;34m)\u001b[0m\u001b[0;34m\u001b[0m\u001b[0;34m\u001b[0m\u001b[0m\n\u001b[0m\u001b[1;32m      3\u001b[0m \u001b[0msave_txt_and_png\u001b[0m\u001b[0;34m(\u001b[0m\u001b[0mbf\u001b[0m\u001b[0;34m,\u001b[0m \u001b[0mds\u001b[0m\u001b[0;34m,\u001b[0m \u001b[0mbix\u001b[0m\u001b[0;34m)\u001b[0m\u001b[0;34m\u001b[0m\u001b[0;34m\u001b[0m\u001b[0m\n",
      "\u001b[0;32m<ipython-input-26-8ee4a274e7f2>\u001b[0m in \u001b[0;36mget_downsamples_by_ball_sn\u001b[0;34m(point_set, ball_index, radius, npoints)\u001b[0m\n\u001b[1;32m     12\u001b[0m \u001b[0;34m\u001b[0m\u001b[0m\n\u001b[1;32m     13\u001b[0m \u001b[0;32mdef\u001b[0m \u001b[0mget_downsamples_by_ball_sn\u001b[0m\u001b[0;34m(\u001b[0m\u001b[0mpoint_set\u001b[0m\u001b[0;34m,\u001b[0m \u001b[0mball_index\u001b[0m\u001b[0;34m,\u001b[0m \u001b[0mradius\u001b[0m\u001b[0;34m,\u001b[0m \u001b[0mnpoints\u001b[0m\u001b[0;34m)\u001b[0m\u001b[0;34m:\u001b[0m\u001b[0;34m\u001b[0m\u001b[0;34m\u001b[0m\u001b[0m\n\u001b[0;32m---> 14\u001b[0;31m     \u001b[0mcenter_xyz\u001b[0m \u001b[0;34m=\u001b[0m \u001b[0mball_center_xyzs\u001b[0m\u001b[0;34m[\u001b[0m\u001b[0mball_index\u001b[0m\u001b[0;34m]\u001b[0m\u001b[0;34m\u001b[0m\u001b[0;34m\u001b[0m\u001b[0m\n\u001b[0m\u001b[1;32m     15\u001b[0m     \u001b[0moutput_samples\u001b[0m \u001b[0;34m=\u001b[0m \u001b[0;34m[\u001b[0m\u001b[0;34m]\u001b[0m\u001b[0;34m\u001b[0m\u001b[0;34m\u001b[0m\u001b[0m\n\u001b[1;32m     16\u001b[0m     \u001b[0;32mfor\u001b[0m \u001b[0mi\u001b[0m \u001b[0;32min\u001b[0m \u001b[0mrange\u001b[0m\u001b[0;34m(\u001b[0m\u001b[0;36m0\u001b[0m\u001b[0;34m,\u001b[0m \u001b[0mlen\u001b[0m\u001b[0;34m(\u001b[0m\u001b[0mpoint_set\u001b[0m\u001b[0;34m)\u001b[0m\u001b[0;34m)\u001b[0m\u001b[0;34m:\u001b[0m\u001b[0;34m\u001b[0m\u001b[0;34m\u001b[0m\u001b[0m\n",
      "\u001b[0;31mIndexError\u001b[0m: index 7 is out of bounds for axis 0 with size 7"
     ]
    }
   ],
   "source": [
    "point_set = np.loadtxt(file_path, delimiter=' ').astype(np.float32)[:, 0:3]\n",
    "bf, ds, bix = get_downsamples_by_ball_sn(point_set, 7, 0.33, 1024)\n",
    "save_txt_and_png(bf, ds, bix)"
   ]
  },
  {
   "cell_type": "code",
   "execution_count": null,
   "metadata": {},
   "outputs": [],
   "source": []
  }
 ],
 "metadata": {
  "kernelspec": {
   "display_name": "Python 3",
   "language": "python",
   "name": "python3"
  },
  "language_info": {
   "codemirror_mode": {
    "name": "ipython",
    "version": 3
   },
   "file_extension": ".py",
   "mimetype": "text/x-python",
   "name": "python",
   "nbconvert_exporter": "python",
   "pygments_lexer": "ipython3",
   "version": "3.7.9"
  }
 },
 "nbformat": 4,
 "nbformat_minor": 4
}
