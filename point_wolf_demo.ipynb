{
 "cells": [
  {
   "cell_type": "code",
   "execution_count": 1,
   "id": "4a5e6c23",
   "metadata": {},
   "outputs": [],
   "source": [
    "import torch\n",
    "import torch.nn as nn\n",
    "import numpy as np\n",
    "\n",
    "class PointWOLF(object):\n",
    "    # todo2: delete args\n",
    "    def __init__(self):\n",
    "        # self.num_anchor = args.w_num_anchor\n",
    "        # self.sample_type = args.w_sample_type\n",
    "        # self.sigma = args.w_sigma\n",
    "\n",
    "        # self.R_range = (-abs(args.w_R_range), abs(args.w_R_range))\n",
    "        # self.S_range = (1., args.w_S_range)\n",
    "        # self.T_range = (-abs(args.w_T_range), abs(args.w_T_range))\n",
    "\n",
    "        # todo1: set the value to default\n",
    "        self.num_anchor = 4\n",
    "        self.sample_type = 'fps'  # 'random'\n",
    "        self.sigma = 0.5\n",
    "\n",
    "        self.R_range = (-abs(10), abs(10))\n",
    "        self.S_range = (1., 3)\n",
    "        self.T_range = (-abs(0.25), abs(0.25))\n",
    "        \n",
    "        \n",
    "    def __call__(self, pos):\n",
    "        \"\"\"\n",
    "        input :\n",
    "            pos([N,3])\n",
    "            \n",
    "        output : \n",
    "            pos([N,3]) : original pointcloud\n",
    "            pos_new([N,3]) : Pointcloud augmneted by PointWOLF\n",
    "        \"\"\"\n",
    "        M=self.num_anchor #(Mx3)\n",
    "        N, _=pos.shape #(N)\n",
    "        \n",
    "        if self.sample_type == 'random':\n",
    "            idx = np.random.choice(N,M)#(M)\n",
    "        elif self.sample_type == 'fps':\n",
    "            idx = self.fps(pos, M) #(M)\n",
    "        \n",
    "        pos_anchor = pos[idx] #(M,3), anchor point\n",
    "        \n",
    "        pos_repeat = np.expand_dims(pos,0).repeat(M, axis=0)#(M,N,3)\n",
    "        # todo\n",
    "        pos_normalize = np.zeros_like(pos_repeat, dtype=pos.dtype)  #(M,N,3)\n",
    "        # pos_normalize = np.zeros_like(pos_repeat)  #(M,N,3)\n",
    "        \n",
    "        #Move to canonical space\n",
    "        print('pos_repeat type and shape: ', type(pos_repeat), pos_repeat.shape)\n",
    "        print('pos_anchor type and shape: ', type(pos_anchor), pos_anchor.shape)\n",
    "        \n",
    "        pos_normalize = pos_repeat - pos_anchor.reshape(M,-1,3)\n",
    "        \n",
    "        #Local transformation at anchor point\n",
    "        pos_transformed = self.local_transformaton(pos_normalize) #(M,N,3)\n",
    "        \n",
    "        #Move to origin space\n",
    "        pos_transformed = pos_transformed + pos_anchor.reshape(M,-1,3) #(M,N,3)\n",
    "        \n",
    "        pos_new = self.kernel_regression(pos, pos_anchor, pos_transformed)\n",
    "        pos_new = self.normalize(pos_new)\n",
    "        \n",
    "        return pos.astype('float32'), pos_new.astype('float32')\n",
    "        \n",
    "\n",
    "    def kernel_regression(self, pos, pos_anchor, pos_transformed):\n",
    "        \"\"\"\n",
    "        input :\n",
    "            pos([N,3])\n",
    "            pos_anchor([M,3])\n",
    "            pos_transformed([M,N,3])\n",
    "            \n",
    "        output : \n",
    "            pos_new([N,3]) : Pointcloud after weighted local transformation \n",
    "        \"\"\"\n",
    "        M, N, _ = pos_transformed.shape\n",
    "        \n",
    "        #Distance between anchor points & entire points\n",
    "        sub = np.expand_dims(pos_anchor,1).repeat(N, axis=1) - np.expand_dims(pos,0).repeat(M, axis=0) #(M,N,3), d\n",
    "        \n",
    "        project_axis = self.get_random_axis(1)\n",
    "\n",
    "        projection = np.expand_dims(project_axis, axis=1)*np.eye(3)#(1,3,3)\n",
    "        \n",
    "        #Project distance\n",
    "        sub = sub @ projection # (M,N,3)\n",
    "        sub = np.sqrt(((sub) ** 2).sum(2)) #(M,N)  \n",
    "        \n",
    "        #Kernel regression\n",
    "        weight = np.exp(-0.5 * (sub ** 2) / (self.sigma ** 2))  #(M,N) \n",
    "        pos_new = (np.expand_dims(weight,2).repeat(3, axis=-1) * pos_transformed).sum(0) #(N,3)\n",
    "        pos_new = (pos_new / weight.sum(0, keepdims=True).T) # normalize by weight\n",
    "        return pos_new\n",
    "\n",
    "    \n",
    "    def fps(self, pos, npoint):\n",
    "        \"\"\"\n",
    "        input : \n",
    "            pos([N,3])\n",
    "            npoint(int)\n",
    "            \n",
    "        output : \n",
    "            centroids([npoints]) : index list for fps\n",
    "        \"\"\"\n",
    "        N, _ = pos.shape\n",
    "        centroids = np.zeros(npoint, dtype=np.int_) #(M)\n",
    "        distance = np.ones(N, dtype=np.float64) * 1e10 #(N)\n",
    "        farthest = np.random.randint(0, N, (1,), dtype=np.int_)\n",
    "        for i in range(npoint):\n",
    "            centroids[i] = farthest\n",
    "            centroid = pos[farthest, :]\n",
    "            dist = ((pos - centroid)**2).sum(-1)\n",
    "            # distance_torch = torch.from_numpy(distance)\n",
    "            # print('dist type: ', type(dist))\n",
    "            # print('distance type', type(distance))\n",
    "            # todo: numpy and torch\n",
    "            mask = dist < distance\n",
    "            distance[mask] = dist[mask]\n",
    "            farthest = distance.argmax()\n",
    "        return centroids\n",
    "    \n",
    "    def local_transformaton(self, pos_normalize):\n",
    "        \"\"\"\n",
    "        input :\n",
    "            pos([N,3]) \n",
    "            pos_normalize([M,N,3])\n",
    "            \n",
    "        output :\n",
    "            pos_normalize([M,N,3]) : Pointclouds after local transformation centered at M anchor points.\n",
    "        \"\"\"\n",
    "        M,N,_ = pos_normalize.shape\n",
    "        transformation_dropout = np.random.binomial(1, 0.5, (M,3)) #(M,3)\n",
    "        transformation_axis =self.get_random_axis(M) #(M,3)\n",
    "\n",
    "        degree = np.pi * np.random.uniform(*self.R_range, size=(M,3)) / 180.0 * transformation_dropout[:,0:1] #(M,3), sampling from (-R_range, R_range) \n",
    "        \n",
    "        scale = np.random.uniform(*self.S_range, size=(M,3)) * transformation_dropout[:,1:2] #(M,3), sampling from (1, S_range)\n",
    "        scale = scale*transformation_axis\n",
    "        scale = scale + 1*(scale==0) #Scaling factor must be larger than 1\n",
    "        \n",
    "        trl = np.random.uniform(*self.T_range, size=(M,3)) * transformation_dropout[:,2:3] #(M,3), sampling from (1, T_range)\n",
    "        trl = trl*transformation_axis\n",
    "        \n",
    "        #Scaling Matrix\n",
    "        S = np.expand_dims(scale, axis=1)*np.eye(3) # scailing factor to diagonal matrix (M,3) -> (M,3,3)\n",
    "        #Rotation Matrix\n",
    "        sin = np.sin(degree)\n",
    "        cos = np.cos(degree)\n",
    "        sx, sy, sz = sin[:,0], sin[:,1], sin[:,2]\n",
    "        cx, cy, cz = cos[:,0], cos[:,1], cos[:,2]\n",
    "        R = np.stack([cz*cy, cz*sy*sx - sz*cx, cz*sy*cx + sz*sx,\n",
    "             sz*cy, sz*sy*sx + cz*cy, sz*sy*cx - cz*sx,\n",
    "             -sy, cy*sx, cy*cx], axis=1).reshape(M,3,3)\n",
    "        \n",
    "        pos_normalize = pos_normalize@R@S + trl.reshape(M,1,3)\n",
    "        return pos_normalize\n",
    "    \n",
    "    def get_random_axis(self, n_axis):\n",
    "        \"\"\"\n",
    "        input :\n",
    "            n_axis(int)\n",
    "            \n",
    "        output :\n",
    "            axis([n_axis,3]) : projection axis   \n",
    "        \"\"\"\n",
    "        axis = np.random.randint(1,8, (n_axis)) # 1(001):z, 2(010):y, 3(011):yz, 4(100):x, 5(101):xz, 6(110):xy, 7(111):xyz    \n",
    "        m = 3 \n",
    "        axis = (((axis[:,None] & (1 << np.arange(m)))) > 0).astype(int)\n",
    "        return axis\n",
    "    \n",
    "    def normalize(self, pos):\n",
    "        \"\"\"\n",
    "        input :\n",
    "            pos([N,3])\n",
    "        \n",
    "        output :\n",
    "            pos([N,3]) : normalized Pointcloud\n",
    "        \"\"\"\n",
    "        pos = pos - pos.mean(axis=-2, keepdims=True)\n",
    "        scale = (1 / np.sqrt((pos ** 2).sum(1)).max()) * 0.999999\n",
    "        pos = scale * pos\n",
    "        return pos"
   ]
  },
  {
   "cell_type": "code",
   "execution_count": 2,
   "id": "beb3d1d2",
   "metadata": {},
   "outputs": [],
   "source": [
    "import torch\n",
    "import numpy as np\n",
    "import torch.nn as nn\n",
    "\n",
    "random_input = np.ones((1024, 3), dtype=np.float32)\n",
    "wolf = PointWOLF()"
   ]
  },
  {
   "cell_type": "code",
   "execution_count": 3,
   "id": "7fc623fa",
   "metadata": {},
   "outputs": [
    {
     "name": "stdout",
     "output_type": "stream",
     "text": [
      "pos_repeat type and shape:  <class 'numpy.ndarray'> (4, 1024, 3)\n",
      "pos_anchor type and shape:  <class 'numpy.ndarray'> (4, 3)\n",
      "(1024, 3) (1024, 3)\n"
     ]
    }
   ],
   "source": [
    "original, augmentation = wolf(random_input)\n",
    "print(original.shape, augmentation.shape)"
   ]
  },
  {
   "cell_type": "code",
   "execution_count": 4,
   "id": "b8ec4fbc",
   "metadata": {
    "scrolled": true
   },
   "outputs": [
    {
     "name": "stdout",
     "output_type": "stream",
     "text": [
      "pos_repeat type and shape:  <class 'numpy.ndarray'> (4, 2837, 3)\n",
      "pos_anchor type and shape:  <class 'numpy.ndarray'> (4, 3)\n",
      "(2837, 3) (2837, 3)\n"
     ]
    }
   ],
   "source": [
    "# 测试另外一个输入，就是点的个数不同，但是维度相同的输入\n",
    "random_input_2 = np.ones((2837, 3), dtype=np.float32)\n",
    "o, n = wolf(random_input_2)\n",
    "print(o.shape, n.shape)"
   ]
  },
  {
   "cell_type": "markdown",
   "id": "caec9529",
   "metadata": {},
   "source": [
    "没有问题，说明针对输入还是robust的。"
   ]
  },
  {
   "cell_type": "markdown",
   "id": "bf25f9e7",
   "metadata": {},
   "source": [
    "发现问题，最好还是把输入设置为numpy。解决\n",
    "接着需要安装open3d"
   ]
  },
  {
   "cell_type": "code",
   "execution_count": 25,
   "id": "a7d7431d",
   "metadata": {
    "scrolled": true
   },
   "outputs": [
    {
     "name": "stdout",
     "output_type": "stream",
     "text": [
      "Collecting open3d\n",
      "  Downloading open3d-0.15.1-cp38-cp38-macosx_10_15_x86_64.whl (127.9 MB)\n",
      "\u001b[K     |████████████████████████████████| 127.9 MB 1.9 MB/s eta 0:00:01\n",
      "\u001b[?25hRequirement already satisfied: numpy>=1.18.0 in /opt/anaconda3/lib/python3.8/site-packages (from open3d) (1.20.1)\n",
      "Requirement already satisfied: wheel>=0.36.0 in /opt/anaconda3/lib/python3.8/site-packages (from open3d) (0.36.2)\n",
      "Collecting pyquaternion\n",
      "  Downloading pyquaternion-0.9.9-py3-none-any.whl (14 kB)\n",
      "Requirement already satisfied: scikit-learn>=0.21 in /opt/anaconda3/lib/python3.8/site-packages (from open3d) (0.24.1)\n",
      "Collecting addict\n",
      "  Downloading addict-2.4.0-py3-none-any.whl (3.8 kB)\n",
      "Requirement already satisfied: tqdm in /opt/anaconda3/lib/python3.8/site-packages (from open3d) (4.59.0)\n",
      "Requirement already satisfied: pyyaml>=5.4.1 in /opt/anaconda3/lib/python3.8/site-packages (from open3d) (5.4.1)\n",
      "Requirement already satisfied: setuptools>=40.8.0 in /opt/anaconda3/lib/python3.8/site-packages (from open3d) (52.0.0.post20210125)\n",
      "Requirement already satisfied: pandas>=1.0 in /opt/anaconda3/lib/python3.8/site-packages (from open3d) (1.2.4)\n",
      "Requirement already satisfied: pillow>=8.2.0 in /opt/anaconda3/lib/python3.8/site-packages (from open3d) (8.2.0)\n",
      "Requirement already satisfied: matplotlib>=3 in /opt/anaconda3/lib/python3.8/site-packages (from open3d) (3.3.4)\n",
      "Requirement already satisfied: python-dateutil>=2.1 in /opt/anaconda3/lib/python3.8/site-packages (from matplotlib>=3->open3d) (2.8.1)\n",
      "Requirement already satisfied: pyparsing!=2.0.4,!=2.1.2,!=2.1.6,>=2.0.3 in /opt/anaconda3/lib/python3.8/site-packages (from matplotlib>=3->open3d) (2.4.7)\n",
      "Requirement already satisfied: cycler>=0.10 in /opt/anaconda3/lib/python3.8/site-packages (from matplotlib>=3->open3d) (0.10.0)\n",
      "Requirement already satisfied: kiwisolver>=1.0.1 in /opt/anaconda3/lib/python3.8/site-packages (from matplotlib>=3->open3d) (1.3.1)\n",
      "Requirement already satisfied: six in /opt/anaconda3/lib/python3.8/site-packages (from cycler>=0.10->matplotlib>=3->open3d) (1.15.0)\n",
      "Requirement already satisfied: pytz>=2017.3 in /opt/anaconda3/lib/python3.8/site-packages (from pandas>=1.0->open3d) (2021.1)\n",
      "Requirement already satisfied: scipy>=0.19.1 in /opt/anaconda3/lib/python3.8/site-packages (from scikit-learn>=0.21->open3d) (1.6.2)\n",
      "Requirement already satisfied: threadpoolctl>=2.0.0 in /opt/anaconda3/lib/python3.8/site-packages (from scikit-learn>=0.21->open3d) (2.1.0)\n",
      "Requirement already satisfied: joblib>=0.11 in /opt/anaconda3/lib/python3.8/site-packages (from scikit-learn>=0.21->open3d) (1.0.1)\n",
      "Installing collected packages: pyquaternion, addict, open3d\n",
      "Successfully installed addict-2.4.0 open3d-0.15.1 pyquaternion-0.9.9\n"
     ]
    }
   ],
   "source": [
    "!pip3 install open3d"
   ]
  },
  {
   "cell_type": "markdown",
   "id": "be940e54",
   "metadata": {},
   "source": [
    "现在想要测试一下，给定一个点云的状态下，原始的和Aug生成的区别有多大，是不是在接受的范围之内。\n",
    "创建可视化函数"
   ]
  },
  {
   "cell_type": "code",
   "execution_count": 5,
   "id": "6829ab67",
   "metadata": {},
   "outputs": [],
   "source": [
    "import os\n",
    "import time\n",
    "import random\n",
    "import open3d as o3d"
   ]
  },
  {
   "cell_type": "code",
   "execution_count": 6,
   "id": "5c136e85",
   "metadata": {},
   "outputs": [],
   "source": [
    "import numpy as np"
   ]
  },
  {
   "cell_type": "code",
   "execution_count": 7,
   "id": "9969ef36",
   "metadata": {},
   "outputs": [],
   "source": [
    "file_path = '/Users/huangqianliang/Desktop/demo/person_0001.txt'"
   ]
  },
  {
   "cell_type": "code",
   "execution_count": 8,
   "id": "f385527e",
   "metadata": {},
   "outputs": [],
   "source": [
    "# 采样结果可视化函数\n",
    "def visualize_samples(d_sample):\n",
    "    \"\"\"\n",
    "    input - numpy.array\n",
    "    \"\"\"\n",
    "    print(\"Points in downsample set: \", len(d_sample))\n",
    "    source = o3d.geometry.PointCloud()\n",
    "    source.points = o3d.utility.Vector3dVector(d_sample)\n",
    "    color = [102.0 / 255.0 ,111.0 / 255.0, 142.0 / 255.0]\n",
    "    source.paint_uniform_color(color)\n",
    "    o3d.visualization.draw_geometries([source])"
   ]
  },
  {
   "cell_type": "code",
   "execution_count": 10,
   "id": "3541470e",
   "metadata": {
    "scrolled": true
   },
   "outputs": [
    {
     "data": {
      "text/plain": [
       "(10000, 3)"
      ]
     },
     "execution_count": 10,
     "metadata": {},
     "output_type": "execute_result"
    }
   ],
   "source": [
    "# 提取并可视化\n",
    "point_set = np.loadtxt(file_path, delimiter=',').astype(np.float32)[:, 0:3]\n",
    "point_set.shape"
   ]
  },
  {
   "cell_type": "code",
   "execution_count": 11,
   "id": "db207c30",
   "metadata": {},
   "outputs": [
    {
     "name": "stdout",
     "output_type": "stream",
     "text": [
      "pos_repeat type and shape:  <class 'numpy.ndarray'> (4, 10000, 3)\n",
      "pos_anchor type and shape:  <class 'numpy.ndarray'> (4, 3)\n",
      "(10000, 3) (10000, 3)\n"
     ]
    }
   ],
   "source": [
    "point_input = point_set\n",
    "original, augmentation = wolf(point_input)\n",
    "print(original.shape, augmentation.shape)\n"
   ]
  },
  {
   "cell_type": "code",
   "execution_count": 12,
   "id": "7eff61c9",
   "metadata": {},
   "outputs": [
    {
     "name": "stdout",
     "output_type": "stream",
     "text": [
      "Points in downsample set:  10000\n",
      "\u001b[1;33m[Open3D WARNING] GLFW Error: Cocoa: Failed to find service port for display\u001b[0;m\n"
     ]
    }
   ],
   "source": [
    "visualize_samples(augmentation)"
   ]
  },
  {
   "cell_type": "markdown",
   "id": "8b9c9cfb",
   "metadata": {},
   "source": [
    "可以显示，但是存在问题。\n",
    "首先是启动，然后就直接在命令行里面报错。所以估计还是在Linux下的比较好。\n",
    "现在需要的能用point wolf正常运行一次 看看结果\n",
    "好像还行，但是感觉也不是很明显的样子。。。。"
   ]
  },
  {
   "cell_type": "code",
   "execution_count": null,
   "id": "c1b340dc",
   "metadata": {},
   "outputs": [],
   "source": [
    "\n",
    "\n",
    "\n",
    "\n",
    "\n",
    "\n",
    "\n",
    "\n",
    "\n",
    "\n",
    "\n",
    "\n",
    "\n",
    "\n",
    "\n",
    "\n",
    "\n"
   ]
  }
 ],
 "metadata": {
  "kernelspec": {
   "display_name": "Python 3",
   "language": "python",
   "name": "python3"
  },
  "language_info": {
   "codemirror_mode": {
    "name": "ipython",
    "version": 3
   },
   "file_extension": ".py",
   "mimetype": "text/x-python",
   "name": "python",
   "nbconvert_exporter": "python",
   "pygments_lexer": "ipython3",
   "version": "3.8.8"
  }
 },
 "nbformat": 4,
 "nbformat_minor": 5
}
