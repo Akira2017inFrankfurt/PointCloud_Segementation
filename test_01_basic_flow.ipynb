{
 "cells": [
  {
   "cell_type": "code",
   "execution_count": 1,
   "metadata": {},
   "outputs": [],
   "source": [
    "import torch\n",
    "from SimAttention.dataloader import ModelNetDataSet\n",
    "\n",
    "root = '/home/akira/下载/Pointnet2_PyTorch-master/byol_pcl/data/modelnet40_normal_resampled'"
   ]
  },
  {
   "cell_type": "markdown",
   "metadata": {},
   "source": [
    "## Dataloader test\n",
    "- input: root(file path)"
   ]
  },
  {
   "cell_type": "code",
   "execution_count": 2,
   "metadata": {},
   "outputs": [
    {
     "name": "stdout",
     "output_type": "stream",
     "text": [
      "9843 point clouds found.\n",
      "torch.Size([4, 10000, 3])\n",
      "torch.Size([4, 10000, 3])\n",
      "torch.Size([4, 10000, 3])\n"
     ]
    }
   ],
   "source": [
    "data = ModelNetDataSet(root)\n",
    "DataLoader = torch.utils.data.DataLoader(data, batch_size=4, shuffle=True)\n",
    "flag = 3\n",
    "i = 0\n",
    "\n",
    "for point in DataLoader:\n",
    "    print(point.shape)\n",
    "    i += 1\n",
    "    if i == flag:\n",
    "        break"
   ]
  },
  {
   "cell_type": "markdown",
   "metadata": {},
   "source": [
    "### 可视化函数"
   ]
  },
  {
   "cell_type": "code",
   "execution_count": 3,
   "metadata": {},
   "outputs": [
    {
     "name": "stdout",
     "output_type": "stream",
     "text": [
      "Jupyter environment detected. Enabling Open3D WebVisualizer.\n",
      "[Open3D INFO] WebRTC GUI backend enabled.\n",
      "[Open3D INFO] WebRTCWindowSystem: HTTP handshake server disabled.\n"
     ]
    }
   ],
   "source": [
    "import open3d as o3d\n",
    "\n",
    "def visualize_samples(d_sample):\n",
    "    print(\"Points in downsample set: \", len(d_sample))\n",
    "    # d_sample = d_sample.numpy()\n",
    "    source = o3d.geometry.PointCloud()\n",
    "    source.points = o3d.utility.Vector3dVector(d_sample)\n",
    "    color = [102.0 / 255.0 ,111.0 / 255.0, 142.0 / 255.0]\n",
    "    source.paint_uniform_color(color)\n",
    "    o3d.visualization.draw_geometries([source])"
   ]
  },
  {
   "cell_type": "code",
   "execution_count": 4,
   "metadata": {
    "scrolled": true
   },
   "outputs": [
    {
     "name": "stdout",
     "output_type": "stream",
     "text": [
      "torch.Size([4, 10000, 3]) <class 'torch.Tensor'>\n",
      "torch.Size([10000, 3])\n"
     ]
    }
   ],
   "source": [
    "import numpy\n",
    "\n",
    "result = 0\n",
    "for point in DataLoader:\n",
    "    result = point\n",
    "    break\n",
    "    \n",
    "print(result.shape, type(result))\n",
    "demo = result[0].reshape(-1, 3)\n",
    "print(demo.shape)"
   ]
  },
  {
   "cell_type": "code",
   "execution_count": 5,
   "metadata": {},
   "outputs": [],
   "source": [
    "demo = demo.numpy()\n",
    "# visualize_samples(demo)"
   ]
  },
  {
   "cell_type": "markdown",
   "metadata": {},
   "source": [
    "### 出现问题\n",
    "open3d中Unable to cast Python instance to C++ type (compile in debug mode for details)；\n",
    "- 网址：https://pythonmana.com/2021/09/20210921094233096q.html\n",
    "- 解释：就是shape不对，需要reshape一下就好了；\n",
    "- 自己：改了下可视化函数中的数据类型，使得直接输入torch类型的数据也可以输出。\n",
    "- 但是：这里出来的都是torch？还是numpy会比较好？\n",
    "\n",
    "---\n",
    "\n",
    "查看了dataloader的源代码，发现开始是没有写torch的，也就是在包装Dataloader的时候，使用的是torch。\n",
    "应该是在这里进行了转换，所以，应该需要一个numpy的dataloader吧？\n",
    "\n",
    "测试看看。\n",
    "\n",
    "没有numpy的，但是有一个办法就是在用的时候就是直接numpy转换，比如下面这个。\n",
    "https://blog.csdn.net/guyuealian/article/details/88343924\n",
    "\n",
    "好了，现在的逻辑就是从Dataloader读取出来的数据，首先转换成numpy 然后再使用。"
   ]
  },
  {
   "cell_type": "markdown",
   "metadata": {},
   "source": [
    "读取进来之后的三个函数测试，random_point_dropout，random_scale_point_cloud，shift_point_cloud\n",
    "首先还是回去看这三个函数的原函数，看看是torch的还是numpy的，看来，应该就是numpy的。\n",
    "开始测试。"
   ]
  },
  {
   "cell_type": "code",
   "execution_count": 6,
   "metadata": {
    "scrolled": true
   },
   "outputs": [
    {
     "name": "stdout",
     "output_type": "stream",
     "text": [
      "torch.Size([4, 10000, 3]) <class 'torch.Tensor'>\n",
      "(4, 10000, 3) <class 'numpy.ndarray'>\n"
     ]
    }
   ],
   "source": [
    "# input dim: [B,N,C]\n",
    "# get the first batch point set\n",
    "print(result.shape, type(result))\n",
    "data_in = result.numpy()\n",
    "print(data_in.shape, type(data_in))"
   ]
  },
  {
   "cell_type": "code",
   "execution_count": 7,
   "metadata": {},
   "outputs": [
    {
     "name": "stdout",
     "output_type": "stream",
     "text": [
      "(4, 10000, 3) <class 'numpy.ndarray'>\n"
     ]
    }
   ],
   "source": [
    "from SimAttention.utils.provider import random_point_dropout\n",
    "points = random_point_dropout(data_in)\n",
    "print(points.shape, type(points))"
   ]
  },
  {
   "cell_type": "code",
   "execution_count": 8,
   "metadata": {},
   "outputs": [
    {
     "name": "stdout",
     "output_type": "stream",
     "text": [
      "(4, 10000, 3) <class 'numpy.ndarray'>\n"
     ]
    }
   ],
   "source": [
    "from SimAttention.utils.provider import random_scale_point_cloud\n",
    "points = random_scale_point_cloud(points)\n",
    "print(points.shape, type(points))"
   ]
  },
  {
   "cell_type": "code",
   "execution_count": 9,
   "metadata": {},
   "outputs": [
    {
     "name": "stdout",
     "output_type": "stream",
     "text": [
      "(4, 10000, 3) <class 'numpy.ndarray'>\n"
     ]
    }
   ],
   "source": [
    "from SimAttention.utils.provider import shift_point_cloud\n",
    "points = shift_point_cloud(points)\n",
    "print(points.shape, type(points))"
   ]
  },
  {
   "cell_type": "markdown",
   "metadata": {},
   "source": [
    "### 测试augmentation方法的输出维度\n",
    "\n",
    "出现问题，原始的这个是解决一个的，而不是一个batch，所以需要修改"
   ]
  },
  {
   "cell_type": "code",
   "execution_count": 10,
   "metadata": {
    "scrolled": true
   },
   "outputs": [
    {
     "name": "stdout",
     "output_type": "stream",
     "text": [
      "(10000, 3) <class 'numpy.ndarray'>\n",
      "(10000, 3) <class 'numpy.ndarray'>\n",
      "(10000, 3) <class 'numpy.ndarray'>\n",
      "(10000, 3) <class 'numpy.ndarray'>\n"
     ]
    }
   ],
   "source": [
    "from SimAttention.network.augmentation import PointWOLF\n",
    "aug_method = PointWOLF()\n",
    "\n",
    "for i in range(points.shape[0]):\n",
    "    ori, aug = aug_method(points[i].reshape(-1, 3))\n",
    "    # print(type(aug))\n",
    "    print(aug.shape, type(aug))"
   ]
  },
  {
   "cell_type": "code",
   "execution_count": 13,
   "metadata": {
    "scrolled": true
   },
   "outputs": [
    {
     "name": "stdout",
     "output_type": "stream",
     "text": [
      "(4, 5, 3)\n"
     ]
    }
   ],
   "source": [
    "for i in range(0, 4):\n",
    "    result_original[i] = numpy.zeros((5, 3))\n",
    "print(result_original.shape)"
   ]
  },
  {
   "cell_type": "code",
   "execution_count": 14,
   "metadata": {},
   "outputs": [
    {
     "name": "stdout",
     "output_type": "stream",
     "text": [
      "(4, 10000, 3)\n"
     ]
    }
   ],
   "source": [
    "print(points.shape)"
   ]
  },
  {
   "cell_type": "code",
   "execution_count": 15,
   "metadata": {},
   "outputs": [
    {
     "name": "stdout",
     "output_type": "stream",
     "text": [
      "(10000, 3)\n"
     ]
    }
   ],
   "source": [
    "print(points[0].shape)"
   ]
  },
  {
   "cell_type": "code",
   "execution_count": 16,
   "metadata": {},
   "outputs": [
    {
     "name": "stdout",
     "output_type": "stream",
     "text": [
      "(4, 10000, 3) <class 'numpy.ndarray'>\n"
     ]
    }
   ],
   "source": [
    "from SimAttention.network.augmentation import Batch_PointWOLF\n",
    "aug_method = Batch_PointWOLF()\n",
    "\n",
    "aug = aug_method(points)\n",
    "print(aug.shape, type(aug))"
   ]
  },
  {
   "cell_type": "markdown",
   "metadata": {},
   "source": [
    "### Augmentation Method passed!"
   ]
  },
  {
   "cell_type": "markdown",
   "metadata": {},
   "source": [
    "### 开始检查crop方法"
   ]
  },
  {
   "cell_type": "code",
   "execution_count": 17,
   "metadata": {},
   "outputs": [
    {
     "name": "stdout",
     "output_type": "stream",
     "text": [
      "(4, 1024, 3)\n"
     ]
    }
   ],
   "source": [
    "from SimAttention.utils.crops import b_fps\n",
    "sub1 = b_fps(aug, 1024)\n",
    "print(sub1.shape)"
   ]
  },
  {
   "cell_type": "code",
   "execution_count": 18,
   "metadata": {},
   "outputs": [
    {
     "name": "stdout",
     "output_type": "stream",
     "text": [
      "(4, 1024, 3)\n"
     ]
    }
   ],
   "source": [
    "from SimAttention.utils.crops import b_get_slice\n",
    "slice1 = b_get_slice(aug, 1, 1, 1024) \n",
    "print(slice1.shape)"
   ]
  },
  {
   "cell_type": "code",
   "execution_count": 19,
   "metadata": {
    "scrolled": true
   },
   "outputs": [
    {
     "name": "stdout",
     "output_type": "stream",
     "text": [
      "(4, 1024, 3)\n"
     ]
    }
   ],
   "source": [
    "from SimAttention.utils.crops import b_get_cube\n",
    "cube1 = b_get_cube(aug, 0.2, 1024)\n",
    "print(cube1.shape)"
   ]
  },
  {
   "cell_type": "code",
   "execution_count": 20,
   "metadata": {},
   "outputs": [
    {
     "name": "stdout",
     "output_type": "stream",
     "text": [
      "(4, 1024, 3)\n"
     ]
    }
   ],
   "source": [
    "from SimAttention.utils.crops import b_get_sphere\n",
    "sphere1 = b_get_sphere(aug, 0.1, 1024)\n",
    "print(sphere1.shape)"
   ]
  },
  {
   "cell_type": "markdown",
   "metadata": {},
   "source": [
    "### crops method 验证完成"
   ]
  },
  {
   "cell_type": "markdown",
   "metadata": {},
   "source": [
    "### Encoder的输入输出测试"
   ]
  },
  {
   "cell_type": "code",
   "execution_count": 21,
   "metadata": {
    "scrolled": true
   },
   "outputs": [
    {
     "name": "stdout",
     "output_type": "stream",
     "text": [
      "torch.Size([4, 1, 1024])\n"
     ]
    }
   ],
   "source": [
    "from SimAttention.network.encoder import PCT_Encoder\n",
    "\n",
    "net_encoder = PCT_Encoder()\n",
    "sphere1 = torch.Tensor(sphere1)\n",
    "out_put = net_encoder(sphere1)\n",
    "print(out_put.shape)"
   ]
  },
  {
   "cell_type": "markdown",
   "metadata": {},
   "source": [
    "### SimAttention测试"
   ]
  },
  {
   "cell_type": "code",
   "execution_count": 22,
   "metadata": {},
   "outputs": [
    {
     "name": "stdout",
     "output_type": "stream",
     "text": [
      "torch.Size([4, 1, 1024])\n"
     ]
    }
   ],
   "source": [
    "from SimAttention.utils.provider import set_requires_grad, get_attention_feature, get_target_encoder\n",
    "online_encoder = net_encoder\n",
    "target_encoder = get_target_encoder(online_encoder)\n",
    "\n",
    "out_put = target_encoder(sphere1)\n",
    "print(out_put.shape)"
   ]
  },
  {
   "cell_type": "code",
   "execution_count": 23,
   "metadata": {},
   "outputs": [
    {
     "data": {
      "text/plain": [
       "torch.Size([4, 1024])"
      ]
     },
     "execution_count": 23,
     "metadata": {},
     "output_type": "execute_result"
    }
   ],
   "source": [
    "#### get_attention_feature 测试\n",
    "q = torch.ones((4, 1, 1024))\n",
    "kv = torch.ones((4, 6, 1024))\n",
    "a = get_attention_feature(q, kv)\n",
    "a.shape"
   ]
  },
  {
   "cell_type": "code",
   "execution_count": 24,
   "metadata": {},
   "outputs": [
    {
     "data": {
      "text/plain": [
       "torch.Size([4, 1, 1024])"
      ]
     },
     "execution_count": 24,
     "metadata": {},
     "output_type": "execute_result"
    }
   ],
   "source": [
    "# output encoder dim = [4, 1, 1024]\n",
    "Q = torch.ones(4, 1024)\n",
    "Q_p = Q.reshape(4, 1, -1)\n",
    "Q_p.shape"
   ]
  },
  {
   "cell_type": "code",
   "execution_count": 25,
   "metadata": {},
   "outputs": [
    {
     "name": "stdout",
     "output_type": "stream",
     "text": [
      "<class 'torch.Tensor'>\n"
     ]
    }
   ],
   "source": [
    "sub1 = torch.Tensor(sub1)\n",
    "sub2 = sub1\n",
    "\n",
    "slice1 = torch.Tensor(slice1)\n",
    "slice2 = slice1\n",
    "\n",
    "cube1 = torch.Tensor(cube1)\n",
    "cube2 = cube1\n",
    "\n",
    "sphere2 = sphere1\n",
    "attention_feature_method = get_attention_feature\n",
    "\n",
    "print(type(slice1))"
   ]
  },
  {
   "cell_type": "code",
   "execution_count": 26,
   "metadata": {},
   "outputs": [],
   "source": [
    "from SimAttention.model import SimAttention\n",
    "\n",
    "net = SimAttention(sub1, sub2, slice1, slice2, cube1, cube2, sphere1, sphere2,\n",
    "                    online_encoder, target_encoder, attention_feature_method)\n",
    "# loss = net(torch.Tensor(points))\n",
    "# loss"
   ]
  },
  {
   "cell_type": "markdown",
   "metadata": {},
   "source": [
    "### 整合\n",
    "\n",
    "- sub之类的东西，而不是需要作为初始化参数\n",
    "- 办法就是一个输入，然后其他的处理都是传入一个函数名作为参数"
   ]
  },
  {
   "cell_type": "code",
   "execution_count": 27,
   "metadata": {
    "scrolled": false
   },
   "outputs": [
    {
     "data": {
      "text/plain": [
       "tensor([ 1.7881e-06,  1.4305e-06,  1.3113e-06, -2.3842e-07],\n",
       "       grad_fn=<RsubBackward1>)"
      ]
     },
     "execution_count": 27,
     "metadata": {},
     "output_type": "execute_result"
    }
   ],
   "source": [
    "from SimAttention.model import SimAttention_2\n",
    "\n",
    "net_2 = SimAttention_2(aug_method, b_fps, b_get_slice, b_get_cube, b_get_sphere, \n",
    "                       online_encoder, attention_feature_method)\n",
    "\n",
    "loss_2 = net_2(torch.Tensor(points))\n",
    "loss_2"
   ]
  },
  {
   "cell_type": "code",
   "execution_count": 29,
   "metadata": {},
   "outputs": [
    {
     "data": {
      "text/plain": [
       "tensor([ 7.6294e-06, -7.1526e-07, -1.4305e-06,  3.6836e-05],\n",
       "       grad_fn=<AddBackward0>)"
      ]
     },
     "execution_count": 29,
     "metadata": {},
     "output_type": "execute_result"
    }
   ],
   "source": [
    "from SimAttention.model import SimAttention_3\n",
    "net_3 = SimAttention_3(aug_method, b_fps, b_get_slice, b_get_cube, b_get_sphere, \n",
    "                       online_encoder, attention_feature_method)\n",
    "\n",
    "loss_3 = net_3(torch.Tensor(points))\n",
    "loss_3"
   ]
  },
  {
   "cell_type": "markdown",
   "metadata": {},
   "source": [
    "### loss\n",
    "- 应该上下两支交换aug之后 再次进行计算，得到一组差，最后将这两个差加起来;\n",
    "- net_3 就是这么处理的，看上去的差值变大了；"
   ]
  },
  {
   "cell_type": "markdown",
   "metadata": {},
   "source": [
    "### todo\n",
    "- 写好train函数\n",
    "- 重新设置平\n"
   ]
  },
  {
   "cell_type": "code",
   "execution_count": null,
   "metadata": {},
   "outputs": [],
   "source": [
    "\n",
    "\n",
    "\n",
    "\n",
    "\n",
    "\n",
    "\n",
    "\n",
    "\n",
    "\n",
    "\n",
    "\n",
    "\n",
    "\n",
    "\n",
    "\n",
    "\n",
    "\n",
    "\n"
   ]
  },
  {
   "cell_type": "code",
   "execution_count": null,
   "metadata": {},
   "outputs": [],
   "source": []
  }
 ],
 "metadata": {
  "kernelspec": {
   "display_name": "Python 3",
   "language": "python",
   "name": "python3"
  },
  "language_info": {
   "codemirror_mode": {
    "name": "ipython",
    "version": 3
   },
   "file_extension": ".py",
   "mimetype": "text/x-python",
   "name": "python",
   "nbconvert_exporter": "python",
   "pygments_lexer": "ipython3",
   "version": "3.7.9"
  }
 },
 "nbformat": 4,
 "nbformat_minor": 4
}
